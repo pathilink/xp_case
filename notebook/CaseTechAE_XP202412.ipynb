{
 "cells": [
  {
   "cell_type": "markdown",
   "metadata": {
    "application/vnd.databricks.v1+cell": {
     "cellMetadata": {},
     "inputWidgets": {},
     "nuid": "42516775-7d97-464b-84b4-91ea13738a37",
     "showTitle": false,
     "tableResultSettingsMap": {},
     "title": ""
    }
   },
   "source": [
    "# Breve Introdução"
   ]
  },
  {
   "cell_type": "markdown",
   "metadata": {
    "application/vnd.databricks.v1+cell": {
     "cellMetadata": {},
     "inputWidgets": {},
     "nuid": "41973f6b-7f2d-4138-9d66-47be689fb724",
     "showTitle": false,
     "tableResultSettingsMap": {},
     "title": ""
    }
   },
   "source": [
    "**USE PYSPARK OU SQL PARA RESOLVER AS QUESTÕES ABAIXO**"
   ]
  },
  {
   "cell_type": "markdown",
   "metadata": {
    "application/vnd.databricks.v1+cell": {
     "cellMetadata": {},
     "inputWidgets": {},
     "nuid": "232f6618-8065-499b-9ec2-a281407bac1b",
     "showTitle": false,
     "tableResultSettingsMap": {},
     "title": ""
    }
   },
   "source": [
    "\n",
    "**NENHUM DADO DISPONIBILIZADO É REAL**\n",
    "\n",
    "Uma das áreas de negócio da XP é o B2B, onde empresas denominadas de escritórios de investimentos, fazem uma parceria com a XP para que seus clientes invistam através de nossa plataforma. Esses escritórios atendem nossos clientes com os assessores autônomos de invesmento, que ajudam as pessoas a investirem melhor. Depois de uma reunião com um dos gerentes da nossa área B2B, ficou claro que a carteira de muitos clientes estava desalinhada com as carteiras recomendadas para seu perfil e caso conseguíssemos reduzir esse desalinhamento, iriamos ajudar os clientes tornando suas carteiras mais seguras e rentáveis ao mesmo tempo que aumentaríamos nossa receita. Criamos então um projeto separado em 4 etapas para conseguirmos aumentar a aderência das carteiras de invesmento dos clientes dentro de seu suitability.\n"
   ]
  },
  {
   "cell_type": "markdown",
   "metadata": {
    "application/vnd.databricks.v1+cell": {
     "cellMetadata": {},
     "inputWidgets": {},
     "nuid": "7e844323-54ad-4cbf-bbd3-daf5c1eeb1b2",
     "showTitle": false,
     "tableResultSettingsMap": {},
     "title": ""
    }
   },
   "source": [
    "**Entendendo melhor a nosso banco de dados**\n",
    "\n",
    "As tabelas disponibilizadas para esse desafio como você pode perceber na query acima possuem dois prefixos diferentes, sendo eles; FAT_ e DIM_\n",
    "\n",
    "* **FAT_**: São as tabelas fato, o que significa que são tabelas que guardam os fatos históricos de algum acontecimento. Então de forma periódica algumas informações podem se repetir\n",
    "  \n",
    "  Exemplo: Se estivéssemos falando de uma tabela fato de vendas por cliente, teríamos uma tabela onde cada linha seria o total de vendas de um cliente naquele dia, então o mesmo cliente poderá se repetir na tabela várias vezes, porque as vendas podem acontecer em vários dias diferentes.\n",
    "  \n",
    "* **DIM_**: São as tabelas dimensão, elas se relacionam com as tabelas fato e guardam informações sobre algo, geralmente são tabelas com menos linhas e mais colunas que as fato.\n",
    "\n",
    "  Exemplo: Pegando o exemplo de vendas da fato explicada acima. Na fato a conta do cliente vai se repetir várias vezes por conta dos dias, então é mantido na tabela fato apenas o código do cliente e na tabela dimensão vão ter todas as informações sobre os clientes, por exemplo o nome, idade, profissão e etc... dessa forma essas informações de texto não vão se repetir na tabela fato tornando a tabela muito mais rápida e menor.\n",
    "  \n",
    "**O que são os COD_DIM?**\n",
    "\n",
    "Você vai perceber que em nossas tabelas existem colunas com o nome COD_DIM_, essas colunas são códigos que são usados para se relacionar dimensões e fatos, então por exemplo a coluna COD_DIM_TEMPO da tabela DIM_TEMPO, também existe na tabela fato FAT_NET_MENSAL e é usada para levar informações sobre o tempo para a tabela fato, que por sua vez fica mais rápida por não ter dados de texto."
   ]
  },
  {
   "cell_type": "markdown",
   "metadata": {
    "application/vnd.databricks.v1+cell": {
     "cellMetadata": {},
     "inputWidgets": {},
     "nuid": "5fde99d2-ec52-4558-a0db-bd982b552eab",
     "showTitle": false,
     "tableResultSettingsMap": {},
     "title": ""
    }
   },
   "source": [
    "# Preparação (Desafio 0)"
   ]
  },
  {
   "cell_type": "markdown",
   "metadata": {
    "application/vnd.databricks.v1+cell": {
     "cellMetadata": {},
     "inputWidgets": {},
     "nuid": "0aed49aa-bfae-485d-8b6c-d8ba6895655b",
     "showTitle": false,
     "tableResultSettingsMap": {},
     "title": ""
    }
   },
   "source": [
    "Após ter criado o cluster e carregado os arquivos CSV para o Databricks chegou a hora de transformá-los em tabelas.\n",
    "Use a célula abaixo ou (crie células, se necessário) para transformar os arquivos fornecidos em Tabelas do Databricks.\n",
    "\n",
    "\n"
   ]
  },
  {
   "cell_type": "markdown",
   "metadata": {
    "application/vnd.databricks.v1+cell": {
     "cellMetadata": {},
     "inputWidgets": {},
     "nuid": "04414c16-c8cf-4df5-8f94-81d909482367",
     "showTitle": false,
     "tableResultSettingsMap": {},
     "title": ""
    }
   },
   "source": [
    "Quando uma tabela é criada o resultado da query fica como \"Query returned no results\", não se preocupe, isso significa que a tabela foi criada com sucesso, você pode consulta-la após isso fazendo um select, como mostrado na célula a seguir"
   ]
  },
  {
   "cell_type": "code",
   "execution_count": 0,
   "metadata": {
    "application/vnd.databricks.v1+cell": {
     "cellMetadata": {
      "byteLimit": 2048000,
      "rowLimit": 10000
     },
     "inputWidgets": {},
     "nuid": "9aa13a72-e26e-465d-ab97-3f047ba303ae",
     "showTitle": false,
     "tableResultSettingsMap": {},
     "title": ""
    }
   },
   "outputs": [],
   "source": [
    "# libraries\n",
    "from pyspark.sql import functions as F\n",
    "from pyspark.sql.window import Window\n"
   ]
  },
  {
   "cell_type": "code",
   "execution_count": 0,
   "metadata": {
    "application/vnd.databricks.v1+cell": {
     "cellMetadata": {
      "byteLimit": 2048000,
      "rowLimit": 10000
     },
     "inputWidgets": {},
     "nuid": "413b5cb3-3d8f-4f98-8521-9f08d450fe01",
     "showTitle": false,
     "tableResultSettingsMap": {},
     "title": ""
    }
   },
   "outputs": [],
   "source": [
    "%python\n",
    "lista_nomes_tabela = [\n",
    "    'fat_recomendacao',\n",
    "    'fat_net_mensal',\n",
    "    'dim_produto',\n",
    "    'dim_conta_suitability',\n",
    "    'dim_canal_assessor'\n",
    "]\n",
    "\n",
    "catalog = \"workspace\"\n",
    "schema = \"default\"\n",
    "\n",
    "for nome_tabela in lista_nomes_tabela:\n",
    "    df = spark.table(f\"{catalog}.{schema}.{nome_tabela}\")\n",
    "    \n",
    "    (\n",
    "        df.write\n",
    "          .mode('overwrite')\n",
    "          .option('overwriteSchema', 'true')\n",
    "          .saveAsTable(nome_tabela) # tabela persistente (já estão no metastore)\n",
    "    )"
   ]
  },
  {
   "cell_type": "code",
   "execution_count": 0,
   "metadata": {
    "application/vnd.databricks.v1+cell": {
     "cellMetadata": {
      "byteLimit": 2048000,
      "rowLimit": 10000
     },
     "inputWidgets": {},
     "nuid": "2680a71f-d5a3-495a-8a55-e9f3a59b1129",
     "showTitle": false,
     "tableResultSettingsMap": {},
     "title": ""
    }
   },
   "outputs": [],
   "source": [
    "# for nome_tabela in lista_nomes_tabela:\n",
    "#     spark.sql(f\"DROP TABLE IF EXISTS {nome_tabela}\")\n",
    "\n"
   ]
  },
  {
   "cell_type": "code",
   "execution_count": 0,
   "metadata": {
    "application/vnd.databricks.v1+cell": {
     "cellMetadata": {
      "byteLimit": 2048000,
      "rowLimit": 10000
     },
     "inputWidgets": {},
     "nuid": "ef8ed4f7-1288-45b4-a205-87e1f05ddd30",
     "showTitle": false,
     "tableResultSettingsMap": {},
     "title": ""
    }
   },
   "outputs": [
    {
     "output_type": "execute_result",
     "data": {
      "text/plain": [
       "[Table(name='dim_canal_assessor', catalog='workspace', namespace=['default'], description='The table contains data related to product classifications, time dimensions, and suitability assessments. It can be used to analyze product performance across different channels and time periods, as well as to evaluate recommended allocations based on suitability criteria. This data is useful for understanding product positioning and optimizing resource allocation.', tableType='MANAGED', isTemporary=False),\n",
       " Table(name='dim_conta_suitability', catalog='workspace', namespace=['default'], description='The table contains data related to suitability codes for various dimensions. This can be useful for analyzing and categorizing different entities based on their suitability criteria. Potential use cases include assessing compliance with standards, evaluating product fit for specific markets, and supporting decision-making processes in project planning.', tableType='MANAGED', isTemporary=False),\n",
       " Table(name='dim_produto', catalog='workspace', namespace=['default'], description='The table contains data related to product classifications. It includes information on product codes and their respective classification levels. This data can be used for analyzing product categories, understanding product distribution, and supporting inventory management decisions.', tableType='MANAGED', isTemporary=False),\n",
       " Table(name='fat_net_mensal', catalog='workspace', namespace=['default'], description='The table contains data related to various dimensions such as time, channel, product, and account, along with a position value. This data can be used for analysis in areas like performance tracking, product assessment, and channel effectiveness. It is useful for generating reports and insights based on the specified dimensions.', tableType='MANAGED', isTemporary=False),\n",
       " Table(name='fat_recomendacao', catalog='workspace', namespace=['default'], description='The table contains data related to time dimensions and suitability classifications. It includes information on recommended allocations based on various criteria. This data can be used for analyzing time-related trends and making informed decisions regarding resource allocation.', tableType='MANAGED', isTemporary=False)]"
      ]
     },
     "execution_count": 2,
     "metadata": {},
     "output_type": "execute_result"
    }
   ],
   "source": [
    "spark.catalog.listTables(\"default\")"
   ]
  },
  {
   "cell_type": "markdown",
   "metadata": {
    "application/vnd.databricks.v1+cell": {
     "cellMetadata": {},
     "inputWidgets": {},
     "nuid": "d0f2211e-43b5-44fb-bc17-a1e15e0762fb",
     "showTitle": false,
     "tableResultSettingsMap": {},
     "title": ""
    }
   },
   "source": [
    "\n",
    "Para finalizar nossa preparação, essa etapa consiste em criar uma tabela que lista o suitability e a custódia mensal dos clientes do B2B para cada estratégia diferente de produto.\n",
    "Portanto, é importante identificar qual (ou quais) tabela(s) fato ou dimensão você irá usar.\n",
    "\n",
    "**Notas:**\n",
    "- Suitability é o perfil do investidor, pode ser conservador, moderado ou agressivo e representa o quanto de risco o cliente está disposto a assumir pelo retorno\n",
    "- Custódia é o tanto de dinheiro dos clientes que está investido dentro da plataforma XP. Esse dinheiro não é da XP\n",
    "- Estratégia de produto é um tipo de classificação de produto que assume as seguintes categorias: Prefixado, Pós-Fixado, Inflação, Multimercado, Renda Variável e Internacional\n",
    "- Se o assessor de algum cliente é do B2B, então esse cliente também é considerado desse canal\n",
    "\n",
    "\n",
    "*Lembre-se de antes de usar esse notebook ativar o cluster, para isso uma vez que ele já tenha sido criado, basta clicar no botão \"Detached\" encontrado no canto esquerdo superior abaixo do título do notebook. Para mais informações olhe o tutorial em word*\n",
    "\n",
    "Agora, com as tabelas tabelas fato e dimensão criadas crie a *fat_custodia_conta_mensal*:"
   ]
  },
  {
   "cell_type": "markdown",
   "metadata": {
    "application/vnd.databricks.v1+cell": {
     "cellMetadata": {},
     "inputWidgets": {},
     "nuid": "2fd6b437-39ba-4aa4-a996-87f5700cdd7a",
     "showTitle": false,
     "tableResultSettingsMap": {},
     "title": ""
    }
   },
   "source": [
    "##### Atenção: Nomeie essa tabela com o seguinte nome: fat_custodia_conta_mensal"
   ]
  },
  {
   "cell_type": "code",
   "execution_count": 0,
   "metadata": {
    "application/vnd.databricks.v1+cell": {
     "cellMetadata": {
      "byteLimit": 2048000,
      "rowLimit": 10000
     },
     "inputWidgets": {},
     "nuid": "0f2ea4bc-1db1-4756-b703-65d4b552ea95",
     "showTitle": false,
     "tableResultSettingsMap": {},
     "title": ""
    }
   },
   "outputs": [],
   "source": [
    "# tabelas\n",
    "canal_df = spark.table(\"workspace.default.dim_canal_assessor\") \n",
    "suitability_df = spark.table(\"workspace.default.dim_conta_suitability\")\n",
    "produto_df = spark.table(\"workspace.default.dim_produto\")\n",
    "net_df = spark.table(\"workspace.default.fat_net_mensal\") \n",
    "recomendacao_df = spark.table(\"workspace.default.fat_recomendacao\")\n",
    "\n"
   ]
  },
  {
   "cell_type": "code",
   "execution_count": 0,
   "metadata": {
    "application/vnd.databricks.v1+cell": {
     "cellMetadata": {
      "byteLimit": 2048000,
      "rowLimit": 10000
     },
     "inputWidgets": {},
     "nuid": "08d7070a-74b3-46be-8329-a3c795115b12",
     "showTitle": false,
     "tableResultSettingsMap": {},
     "title": ""
    }
   },
   "outputs": [
    {
     "output_type": "display_data",
     "data": {
      "text/html": [
       "<style scoped>\n",
       "  .table-result-container {\n",
       "    max-height: 300px;\n",
       "    overflow: auto;\n",
       "  }\n",
       "  table, th, td {\n",
       "    border: 1px solid black;\n",
       "    border-collapse: collapse;\n",
       "  }\n",
       "  th, td {\n",
       "    padding: 5px;\n",
       "  }\n",
       "  th {\n",
       "    text-align: left;\n",
       "  }\n",
       "</style><div class='table-result-container'><table class='table-result'><thead style='background-color: white'><tr><th>COD_DIM_CONTA</th><th>SUITABILITY</th><th>COD_DIM_CANAL_ASSESSOR</th><th>CANAL</th><th>COD_DIM_PRODUTO</th><th>CLASSE_N1</th><th>CLASSE_N2</th><th>VAL_POSICAO</th><th>COD_DIM_TEMPO</th></tr></thead><tbody><tr><td>144</td><td>Moderado</td><td>28</td><td>B2B</td><td>47</td><td>Internacional</td><td>BDR</td><td>41304.72</td><td>2021-08-31</td></tr><tr><td>144</td><td>Moderado</td><td>28</td><td>B2B</td><td>35</td><td>Pós-Fixado</td><td>Fundo de investimentos</td><td>24514.96</td><td>2021-08-31</td></tr><tr><td>144</td><td>Moderado</td><td>28</td><td>B2B</td><td>39</td><td>Pós-Fixado</td><td>Fundo de investimentos</td><td>88908.01</td><td>2021-08-31</td></tr><tr><td>144</td><td>Moderado</td><td>28</td><td>B2B</td><td>10</td><td>Renda Variável</td><td>Ação</td><td>42419.84</td><td>2021-09-30</td></tr><tr><td>144</td><td>Moderado</td><td>28</td><td>B2B</td><td>38</td><td>Pós-Fixado</td><td>Fundo de investimentos</td><td>18148.95</td><td>2021-09-30</td></tr><tr><td>144</td><td>Moderado</td><td>28</td><td>B2B</td><td>27</td><td>Pós-Fixado</td><td>Emissão Bancária</td><td>51045.98</td><td>2021-09-30</td></tr><tr><td>144</td><td>Moderado</td><td>28</td><td>B2B</td><td>22</td><td>Pós-Fixado</td><td>Título Público</td><td>16103.64</td><td>2021-10-31</td></tr><tr><td>144</td><td>Moderado</td><td>28</td><td>B2B</td><td>36</td><td>Pós-Fixado</td><td>Fundo de investimentos</td><td>94690.75</td><td>2021-10-31</td></tr><tr><td>144</td><td>Moderado</td><td>28</td><td>B2B</td><td>8</td><td>Renda Variável</td><td>Ação</td><td>13270.2</td><td>2021-10-31</td></tr><tr><td>99</td><td>Moderado</td><td>37</td><td>B2C</td><td>13</td><td>Renda Variável</td><td>Ação</td><td>28935.01</td><td>2021-08-31</td></tr><tr><td>99</td><td>Moderado</td><td>37</td><td>B2C</td><td>23</td><td>Pós-Fixado</td><td>Emissão Bancária</td><td>46858.91</td><td>2021-08-31</td></tr><tr><td>99</td><td>Moderado</td><td>37</td><td>B2C</td><td>7</td><td>Renda Variável</td><td>Ação</td><td>89145.75</td><td>2021-08-31</td></tr><tr><td>99</td><td>Moderado</td><td>37</td><td>B2C</td><td>5</td><td>Renda Variável</td><td>Ação</td><td>60772.98</td><td>2021-09-30</td></tr><tr><td>99</td><td>Moderado</td><td>37</td><td>B2C</td><td>33</td><td>Pós-Fixado</td><td>Fundo de investimentos</td><td>20736.76</td><td>2021-09-30</td></tr><tr><td>99</td><td>Moderado</td><td>37</td><td>B2C</td><td>15</td><td>Renda Variável</td><td>Opção</td><td>27097.0</td><td>2021-09-30</td></tr><tr><td>13</td><td>Moderado</td><td>53</td><td>B2B</td><td>16</td><td>Renda Variável</td><td>Fundo de investimentos</td><td>51297.52</td><td>2021-08-31</td></tr><tr><td>13</td><td>Moderado</td><td>53</td><td>B2B</td><td>48</td><td>Renda Variável</td><td>Fundo de investimentos</td><td>77899.87</td><td>2021-08-31</td></tr><tr><td>13</td><td>Moderado</td><td>53</td><td>B2B</td><td>48</td><td>Renda Variável</td><td>Fundo de investimentos</td><td>86187.63</td><td>2021-08-31</td></tr><tr><td>13</td><td>Moderado</td><td>53</td><td>B2B</td><td>43</td><td>Internacional</td><td>BDR</td><td>8478.79</td><td>2021-09-30</td></tr><tr><td>13</td><td>Moderado</td><td>53</td><td>B2B</td><td>33</td><td>Pós-Fixado</td><td>Fundo de investimentos</td><td>62463.69</td><td>2021-09-30</td></tr><tr><td>13</td><td>Moderado</td><td>53</td><td>B2B</td><td>22</td><td>Pós-Fixado</td><td>Título Público</td><td>22741.72</td><td>2021-09-30</td></tr><tr><td>13</td><td>Moderado</td><td>53</td><td>B2B</td><td>25</td><td>Pós-Fixado</td><td>Título Público</td><td>31251.64</td><td>2021-10-31</td></tr><tr><td>13</td><td>Moderado</td><td>53</td><td>B2B</td><td>1</td><td>Renda Variável</td><td>Ação</td><td>56791.49</td><td>2021-10-31</td></tr><tr><td>13</td><td>Moderado</td><td>53</td><td>B2B</td><td>39</td><td>Pós-Fixado</td><td>Fundo de investimentos</td><td>85454.42</td><td>2021-10-31</td></tr><tr><td>81</td><td>Agressivo</td><td>40</td><td>B2B</td><td>17</td><td>Renda Variável</td><td>Fundo de investimentos</td><td>17364.95</td><td>2021-08-31</td></tr><tr><td>81</td><td>Agressivo</td><td>40</td><td>B2B</td><td>16</td><td>Renda Variável</td><td>Fundo de investimentos</td><td>35688.94</td><td>2021-08-31</td></tr><tr><td>81</td><td>Agressivo</td><td>40</td><td>B2B</td><td>45</td><td>Internacional</td><td>Fundo de investimentos</td><td>49798.66</td><td>2021-08-31</td></tr><tr><td>81</td><td>Agressivo</td><td>40</td><td>B2B</td><td>34</td><td>Pós-Fixado</td><td>Fundo de investimentos</td><td>55099.65</td><td>2021-09-30</td></tr><tr><td>81</td><td>Agressivo</td><td>40</td><td>B2B</td><td>16</td><td>Renda Variável</td><td>Fundo de investimentos</td><td>25665.82</td><td>2021-09-30</td></tr><tr><td>81</td><td>Agressivo</td><td>40</td><td>B2B</td><td>21</td><td>Renda Variável</td><td>Fundo imobiliário</td><td>70564.23</td><td>2021-09-30</td></tr><tr><td>81</td><td>Agressivo</td><td>40</td><td>B2B</td><td>46</td><td>Internacional</td><td>Fundo de investimentos</td><td>21460.77</td><td>2021-10-31</td></tr><tr><td>81</td><td>Agressivo</td><td>40</td><td>B2B</td><td>6</td><td>Renda Variável</td><td>Ação</td><td>56754.15</td><td>2021-10-31</td></tr><tr><td>81</td><td>Agressivo</td><td>40</td><td>B2B</td><td>4</td><td>Renda Variável</td><td>Fundo imobiliário</td><td>9849.21</td><td>2021-10-31</td></tr><tr><td>100</td><td>Conservador</td><td>41</td><td>B2B</td><td>46</td><td>Internacional</td><td>Fundo de investimentos</td><td>95049.11</td><td>2021-08-31</td></tr><tr><td>100</td><td>Conservador</td><td>41</td><td>B2B</td><td>28</td><td>Pós-Fixado</td><td>Emissão Bancária</td><td>69889.91</td><td>2021-08-31</td></tr><tr><td>100</td><td>Conservador</td><td>41</td><td>B2B</td><td>47</td><td>Internacional</td><td>BDR</td><td>33056.2</td><td>2021-08-31</td></tr><tr><td>100</td><td>Conservador</td><td>41</td><td>B2B</td><td>26</td><td>Pós-Fixado</td><td>Título Público</td><td>98776.6</td><td>2021-09-30</td></tr><tr><td>100</td><td>Conservador</td><td>41</td><td>B2B</td><td>37</td><td>Pós-Fixado</td><td>Fundo de investimentos</td><td>8751.79</td><td>2021-09-30</td></tr><tr><td>100</td><td>Conservador</td><td>41</td><td>B2B</td><td>43</td><td>Internacional</td><td>BDR</td><td>27619.47</td><td>2021-09-30</td></tr><tr><td>100</td><td>Conservador</td><td>41</td><td>B2B</td><td>36</td><td>Pós-Fixado</td><td>Fundo de investimentos</td><td>86527.75</td><td>2021-10-31</td></tr><tr><td>100</td><td>Conservador</td><td>41</td><td>B2B</td><td>45</td><td>Internacional</td><td>Fundo de investimentos</td><td>70229.62</td><td>2021-10-31</td></tr><tr><td>100</td><td>Conservador</td><td>41</td><td>B2B</td><td>3</td><td>Renda Variável</td><td>Fundo de investimentos</td><td>19047.98</td><td>2021-10-31</td></tr><tr><td>128</td><td>Moderado</td><td>85</td><td>B2B</td><td>45</td><td>Internacional</td><td>Fundo de investimentos</td><td>29189.02</td><td>2021-08-31</td></tr><tr><td>128</td><td>Moderado</td><td>85</td><td>B2B</td><td>40</td><td>Internacional</td><td>BDR</td><td>97498.78</td><td>2021-08-31</td></tr><tr><td>128</td><td>Moderado</td><td>85</td><td>B2B</td><td>23</td><td>Pós-Fixado</td><td>Emissão Bancária</td><td>49608.98</td><td>2021-08-31</td></tr><tr><td>128</td><td>Moderado</td><td>85</td><td>B2B</td><td>12</td><td>Renda Variável</td><td>Ação</td><td>14161.04</td><td>2021-09-30</td></tr><tr><td>128</td><td>Moderado</td><td>85</td><td>B2B</td><td>36</td><td>Pós-Fixado</td><td>Fundo de investimentos</td><td>64482.94</td><td>2021-09-30</td></tr><tr><td>128</td><td>Moderado</td><td>85</td><td>B2B</td><td>48</td><td>Renda Variável</td><td>Fundo de investimentos</td><td>27321.67</td><td>2021-09-30</td></tr><tr><td>128</td><td>Moderado</td><td>85</td><td>B2B</td><td>2</td><td>Renda Variável</td><td>Opção</td><td>64426.47</td><td>2021-10-31</td></tr><tr><td>128</td><td>Moderado</td><td>85</td><td>B2B</td><td>16</td><td>Renda Variável</td><td>Fundo de investimentos</td><td>87525.55</td><td>2021-10-31</td></tr><tr><td>128</td><td>Moderado</td><td>85</td><td>B2B</td><td>3</td><td>Renda Variável</td><td>Fundo de investimentos</td><td>17670.03</td><td>2021-10-31</td></tr><tr><td>74</td><td>Agressivo</td><td>33</td><td>B2C</td><td>26</td><td>Pós-Fixado</td><td>Título Público</td><td>24936.0</td><td>2021-08-31</td></tr><tr><td>74</td><td>Agressivo</td><td>33</td><td>B2C</td><td>39</td><td>Pós-Fixado</td><td>Fundo de investimentos</td><td>51508.58</td><td>2021-08-31</td></tr><tr><td>74</td><td>Agressivo</td><td>33</td><td>B2C</td><td>7</td><td>Renda Variável</td><td>Ação</td><td>84041.92</td><td>2021-08-31</td></tr><tr><td>74</td><td>Agressivo</td><td>33</td><td>B2C</td><td>28</td><td>Pós-Fixado</td><td>Emissão Bancária</td><td>41809.7</td><td>2021-09-30</td></tr><tr><td>74</td><td>Agressivo</td><td>33</td><td>B2C</td><td>45</td><td>Internacional</td><td>Fundo de investimentos</td><td>61725.54</td><td>2021-09-30</td></tr><tr><td>74</td><td>Agressivo</td><td>33</td><td>B2C</td><td>13</td><td>Renda Variável</td><td>Ação</td><td>77487.68</td><td>2021-09-30</td></tr><tr><td>74</td><td>Agressivo</td><td>33</td><td>B2C</td><td>41</td><td>Internacional</td><td>Fundo de investimentos</td><td>79146.74</td><td>2021-10-31</td></tr><tr><td>74</td><td>Agressivo</td><td>33</td><td>B2C</td><td>46</td><td>Internacional</td><td>Fundo de investimentos</td><td>54201.09</td><td>2021-10-31</td></tr><tr><td>74</td><td>Agressivo</td><td>33</td><td>B2C</td><td>41</td><td>Internacional</td><td>Fundo de investimentos</td><td>87940.29</td><td>2021-10-31</td></tr><tr><td>102</td><td>Agressivo</td><td>45</td><td>B2C</td><td>5</td><td>Renda Variável</td><td>Ação</td><td>98712.02</td><td>2021-08-31</td></tr><tr><td>102</td><td>Agressivo</td><td>45</td><td>B2C</td><td>49</td><td>Pós-Fixado</td><td>Fundo de investimentos</td><td>94304.48</td><td>2021-08-31</td></tr><tr><td>102</td><td>Agressivo</td><td>45</td><td>B2C</td><td>43</td><td>Internacional</td><td>BDR</td><td>44293.87</td><td>2021-08-31</td></tr><tr><td>102</td><td>Agressivo</td><td>45</td><td>B2C</td><td>46</td><td>Internacional</td><td>Fundo de investimentos</td><td>33929.67</td><td>2021-09-30</td></tr><tr><td>102</td><td>Agressivo</td><td>45</td><td>B2C</td><td>48</td><td>Renda Variável</td><td>Fundo de investimentos</td><td>45891.46</td><td>2021-09-30</td></tr><tr><td>102</td><td>Agressivo</td><td>45</td><td>B2C</td><td>45</td><td>Internacional</td><td>Fundo de investimentos</td><td>43639.08</td><td>2021-09-30</td></tr><tr><td>102</td><td>Agressivo</td><td>45</td><td>B2C</td><td>5</td><td>Renda Variável</td><td>Ação</td><td>50103.5</td><td>2021-10-31</td></tr><tr><td>102</td><td>Agressivo</td><td>45</td><td>B2C</td><td>6</td><td>Renda Variável</td><td>Ação</td><td>47800.44</td><td>2021-10-31</td></tr><tr><td>102</td><td>Agressivo</td><td>45</td><td>B2C</td><td>8</td><td>Renda Variável</td><td>Ação</td><td>11419.18</td><td>2021-10-31</td></tr><tr><td>40</td><td>Conservador</td><td>21</td><td>B2B</td><td>16</td><td>Renda Variável</td><td>Fundo de investimentos</td><td>50362.14</td><td>2021-08-31</td></tr><tr><td>40</td><td>Conservador</td><td>21</td><td>B2B</td><td>35</td><td>Pós-Fixado</td><td>Fundo de investimentos</td><td>66363.49</td><td>2021-08-31</td></tr><tr><td>40</td><td>Conservador</td><td>21</td><td>B2B</td><td>42</td><td>Internacional</td><td>BDR</td><td>51676.24</td><td>2021-08-31</td></tr><tr><td>40</td><td>Conservador</td><td>21</td><td>B2B</td><td>12</td><td>Renda Variável</td><td>Ação</td><td>49858.38</td><td>2021-09-30</td></tr><tr><td>40</td><td>Conservador</td><td>21</td><td>B2B</td><td>11</td><td>Renda Variável</td><td>Ação</td><td>23174.53</td><td>2021-09-30</td></tr><tr><td>40</td><td>Conservador</td><td>21</td><td>B2B</td><td>12</td><td>Renda Variável</td><td>Ação</td><td>21611.91</td><td>2021-09-30</td></tr><tr><td>40</td><td>Conservador</td><td>21</td><td>B2B</td><td>36</td><td>Pós-Fixado</td><td>Fundo de investimentos</td><td>81623.5</td><td>2021-10-31</td></tr><tr><td>40</td><td>Conservador</td><td>21</td><td>B2B</td><td>6</td><td>Renda Variável</td><td>Ação</td><td>43213.51</td><td>2021-10-31</td></tr><tr><td>40</td><td>Conservador</td><td>21</td><td>B2B</td><td>1</td><td>Renda Variável</td><td>Ação</td><td>72262.09</td><td>2021-10-31</td></tr><tr><td>23</td><td>Agressivo</td><td>45</td><td>B2C</td><td>40</td><td>Internacional</td><td>BDR</td><td>63500.9</td><td>2021-08-31</td></tr><tr><td>23</td><td>Agressivo</td><td>45</td><td>B2C</td><td>35</td><td>Pós-Fixado</td><td>Fundo de investimentos</td><td>58840.76</td><td>2021-08-31</td></tr><tr><td>23</td><td>Agressivo</td><td>45</td><td>B2C</td><td>28</td><td>Pós-Fixado</td><td>Emissão Bancária</td><td>6721.67</td><td>2021-08-31</td></tr><tr><td>23</td><td>Agressivo</td><td>45</td><td>B2C</td><td>3</td><td>Renda Variável</td><td>Fundo de investimentos</td><td>93390.99</td><td>2021-09-30</td></tr><tr><td>23</td><td>Agressivo</td><td>45</td><td>B2C</td><td>34</td><td>Pós-Fixado</td><td>Fundo de investimentos</td><td>20484.98</td><td>2021-09-30</td></tr><tr><td>23</td><td>Agressivo</td><td>45</td><td>B2C</td><td>39</td><td>Pós-Fixado</td><td>Fundo de investimentos</td><td>78044.34</td><td>2021-09-30</td></tr><tr><td>23</td><td>Agressivo</td><td>45</td><td>B2C</td><td>12</td><td>Renda Variável</td><td>Ação</td><td>81623.92</td><td>2021-10-31</td></tr><tr><td>23</td><td>Agressivo</td><td>45</td><td>B2C</td><td>31</td><td>Pós-Fixado</td><td>Emissão Bancária</td><td>82421.08</td><td>2021-10-31</td></tr><tr><td>23</td><td>Agressivo</td><td>45</td><td>B2C</td><td>48</td><td>Renda Variável</td><td>Fundo de investimentos</td><td>9163.84</td><td>2021-10-31</td></tr><tr><td>122</td><td>Moderado</td><td>39</td><td>B2C</td><td>4</td><td>Renda Variável</td><td>Fundo imobiliário</td><td>82504.43</td><td>2021-08-31</td></tr><tr><td>122</td><td>Moderado</td><td>39</td><td>B2C</td><td>42</td><td>Internacional</td><td>BDR</td><td>47750.05</td><td>2021-08-31</td></tr><tr><td>122</td><td>Moderado</td><td>39</td><td>B2C</td><td>5</td><td>Renda Variável</td><td>Ação</td><td>41871.06</td><td>2021-08-31</td></tr><tr><td>122</td><td>Moderado</td><td>39</td><td>B2C</td><td>27</td><td>Pós-Fixado</td><td>Emissão Bancária</td><td>42583.13</td><td>2021-09-30</td></tr><tr><td>122</td><td>Moderado</td><td>39</td><td>B2C</td><td>9</td><td>Renda Variável</td><td>Ação</td><td>92199.97</td><td>2021-09-30</td></tr><tr><td>122</td><td>Moderado</td><td>39</td><td>B2C</td><td>36</td><td>Pós-Fixado</td><td>Fundo de investimentos</td><td>28741.76</td><td>2021-09-30</td></tr><tr><td>122</td><td>Moderado</td><td>39</td><td>B2C</td><td>29</td><td>Pós-Fixado</td><td>Emissão Bancária</td><td>45662.64</td><td>2021-10-31</td></tr><tr><td>122</td><td>Moderado</td><td>39</td><td>B2C</td><td>42</td><td>Internacional</td><td>BDR</td><td>59592.68</td><td>2021-10-31</td></tr><tr><td>122</td><td>Moderado</td><td>39</td><td>B2C</td><td>46</td><td>Internacional</td><td>Fundo de investimentos</td><td>55997.6</td><td>2021-10-31</td></tr><tr><td>135</td><td>Conservador</td><td>11</td><td>B2B</td><td>20</td><td>Renda Variável</td><td>Fundo imobiliário</td><td>78676.57</td><td>2021-08-31</td></tr><tr><td>135</td><td>Conservador</td><td>11</td><td>B2B</td><td>8</td><td>Renda Variável</td><td>Ação</td><td>66928.7</td><td>2021-08-31</td></tr><tr><td>135</td><td>Conservador</td><td>11</td><td>B2B</td><td>2</td><td>Renda Variável</td><td>Opção</td><td>23363.56</td><td>2021-08-31</td></tr><tr><td>135</td><td>Conservador</td><td>11</td><td>B2B</td><td>41</td><td>Internacional</td><td>Fundo de investimentos</td><td>91750.96</td><td>2021-09-30</td></tr><tr><td>135</td><td>Conservador</td><td>11</td><td>B2B</td><td>42</td><td>Internacional</td><td>BDR</td><td>19419.06</td><td>2021-09-30</td></tr><tr><td>135</td><td>Conservador</td><td>11</td><td>B2B</td><td>35</td><td>Pós-Fixado</td><td>Fundo de investimentos</td><td>25970.78</td><td>2021-09-30</td></tr><tr><td>135</td><td>Conservador</td><td>11</td><td>B2B</td><td>47</td><td>Internacional</td><td>BDR</td><td>42395.36</td><td>2021-10-31</td></tr><tr><td>135</td><td>Conservador</td><td>11</td><td>B2B</td><td>25</td><td>Pós-Fixado</td><td>Título Público</td><td>83935.73</td><td>2021-10-31</td></tr><tr><td>135</td><td>Conservador</td><td>11</td><td>B2B</td><td>27</td><td>Pós-Fixado</td><td>Emissão Bancária</td><td>11891.9</td><td>2021-10-31</td></tr><tr><td>126</td><td>Agressivo</td><td>72</td><td>B2C</td><td>40</td><td>Internacional</td><td>BDR</td><td>14452.27</td><td>2021-08-31</td></tr><tr><td>126</td><td>Agressivo</td><td>72</td><td>B2C</td><td>18</td><td>Renda Variável</td><td>Fundo de investimentos</td><td>21698.3</td><td>2021-08-31</td></tr><tr><td>126</td><td>Agressivo</td><td>72</td><td>B2C</td><td>25</td><td>Pós-Fixado</td><td>Título Público</td><td>85834.05</td><td>2021-08-31</td></tr><tr><td>126</td><td>Agressivo</td><td>72</td><td>B2C</td><td>33</td><td>Pós-Fixado</td><td>Fundo de investimentos</td><td>60335.7</td><td>2021-09-30</td></tr><tr><td>126</td><td>Agressivo</td><td>72</td><td>B2C</td><td>31</td><td>Pós-Fixado</td><td>Emissão Bancária</td><td>92986.57</td><td>2021-09-30</td></tr><tr><td>126</td><td>Agressivo</td><td>72</td><td>B2C</td><td>9</td><td>Renda Variável</td><td>Ação</td><td>19838.32</td><td>2021-09-30</td></tr><tr><td>126</td><td>Agressivo</td><td>72</td><td>B2C</td><td>10</td><td>Renda Variável</td><td>Ação</td><td>5520.36</td><td>2021-10-31</td></tr><tr><td>126</td><td>Agressivo</td><td>72</td><td>B2C</td><td>27</td><td>Pós-Fixado</td><td>Emissão Bancária</td><td>95568.42</td><td>2021-10-31</td></tr><tr><td>126</td><td>Agressivo</td><td>72</td><td>B2C</td><td>21</td><td>Renda Variável</td><td>Fundo imobiliário</td><td>84931.64</td><td>2021-10-31</td></tr><tr><td>15</td><td>Moderado</td><td>9</td><td>B2C</td><td>7</td><td>Renda Variável</td><td>Ação</td><td>29146.94</td><td>2021-08-31</td></tr><tr><td>15</td><td>Moderado</td><td>9</td><td>B2C</td><td>28</td><td>Pós-Fixado</td><td>Emissão Bancária</td><td>81397.41</td><td>2021-08-31</td></tr><tr><td>15</td><td>Moderado</td><td>9</td><td>B2C</td><td>9</td><td>Renda Variável</td><td>Ação</td><td>92623.83</td><td>2021-08-31</td></tr><tr><td>15</td><td>Moderado</td><td>9</td><td>B2C</td><td>22</td><td>Pós-Fixado</td><td>Título Público</td><td>93949.66</td><td>2021-09-30</td></tr><tr><td>15</td><td>Moderado</td><td>9</td><td>B2C</td><td>28</td><td>Pós-Fixado</td><td>Emissão Bancária</td><td>83307.39</td><td>2021-09-30</td></tr><tr><td>15</td><td>Moderado</td><td>9</td><td>B2C</td><td>7</td><td>Renda Variável</td><td>Ação</td><td>13515.18</td><td>2021-09-30</td></tr><tr><td>15</td><td>Moderado</td><td>9</td><td>B2C</td><td>31</td><td>Pós-Fixado</td><td>Emissão Bancária</td><td>66046.85</td><td>2021-10-31</td></tr><tr><td>15</td><td>Moderado</td><td>9</td><td>B2C</td><td>20</td><td>Renda Variável</td><td>Fundo imobiliário</td><td>72008.73</td><td>2021-10-31</td></tr><tr><td>15</td><td>Moderado</td><td>9</td><td>B2C</td><td>29</td><td>Pós-Fixado</td><td>Emissão Bancária</td><td>31045.01</td><td>2021-10-31</td></tr><tr><td>124</td><td>Conservador</td><td>32</td><td>B2C</td><td>19</td><td>Renda Variável</td><td>Fundo imobiliário</td><td>69276.42</td><td>2021-08-31</td></tr><tr><td>124</td><td>Conservador</td><td>32</td><td>B2C</td><td>37</td><td>Pós-Fixado</td><td>Fundo de investimentos</td><td>10617.55</td><td>2021-08-31</td></tr><tr><td>124</td><td>Conservador</td><td>32</td><td>B2C</td><td>23</td><td>Pós-Fixado</td><td>Emissão Bancária</td><td>95423.54</td><td>2021-08-31</td></tr><tr><td>124</td><td>Conservador</td><td>32</td><td>B2C</td><td>11</td><td>Renda Variável</td><td>Ação</td><td>89925.98</td><td>2021-09-30</td></tr><tr><td>124</td><td>Conservador</td><td>32</td><td>B2C</td><td>15</td><td>Renda Variável</td><td>Opção</td><td>8636.53</td><td>2021-09-30</td></tr><tr><td>124</td><td>Conservador</td><td>32</td><td>B2C</td><td>46</td><td>Internacional</td><td>Fundo de investimentos</td><td>93695.97</td><td>2021-09-30</td></tr><tr><td>124</td><td>Conservador</td><td>32</td><td>B2C</td><td>17</td><td>Renda Variável</td><td>Fundo de investimentos</td><td>30822.9</td><td>2021-10-31</td></tr><tr><td>124</td><td>Conservador</td><td>32</td><td>B2C</td><td>41</td><td>Internacional</td><td>Fundo de investimentos</td><td>28027.89</td><td>2021-10-31</td></tr><tr><td>124</td><td>Conservador</td><td>32</td><td>B2C</td><td>27</td><td>Pós-Fixado</td><td>Emissão Bancária</td><td>2160.26</td><td>2021-10-31</td></tr><tr><td>87</td><td>Agressivo</td><td>37</td><td>B2C</td><td>21</td><td>Renda Variável</td><td>Fundo imobiliário</td><td>47754.9</td><td>2021-08-31</td></tr><tr><td>87</td><td>Agressivo</td><td>37</td><td>B2C</td><td>33</td><td>Pós-Fixado</td><td>Fundo de investimentos</td><td>36759.44</td><td>2021-08-31</td></tr><tr><td>87</td><td>Agressivo</td><td>37</td><td>B2C</td><td>27</td><td>Pós-Fixado</td><td>Emissão Bancária</td><td>26735.57</td><td>2021-08-31</td></tr><tr><td>87</td><td>Agressivo</td><td>29</td><td>B2B</td><td>8</td><td>Renda Variável</td><td>Ação</td><td>52992.9</td><td>2021-08-31</td></tr><tr><td>87</td><td>Agressivo</td><td>29</td><td>B2B</td><td>24</td><td>Pós-Fixado</td><td>Fundo de investimentos</td><td>82495.49</td><td>2021-08-31</td></tr><tr><td>87</td><td>Agressivo</td><td>29</td><td>B2B</td><td>39</td><td>Pós-Fixado</td><td>Fundo de investimentos</td><td>43922.72</td><td>2021-09-30</td></tr><tr><td>87</td><td>Agressivo</td><td>29</td><td>B2B</td><td>40</td><td>Internacional</td><td>BDR</td><td>89706.74</td><td>2021-09-30</td></tr><tr><td>87</td><td>Agressivo</td><td>29</td><td>B2B</td><td>8</td><td>Renda Variável</td><td>Ação</td><td>37020.57</td><td>2021-09-30</td></tr><tr><td>87</td><td>Agressivo</td><td>29</td><td>B2B</td><td>27</td><td>Pós-Fixado</td><td>Emissão Bancária</td><td>84326.34</td><td>2021-10-31</td></tr><tr><td>87</td><td>Agressivo</td><td>29</td><td>B2B</td><td>32</td><td>Pós-Fixado</td><td>Emissão Bancária</td><td>78755.54</td><td>2021-10-31</td></tr><tr><td>87</td><td>Agressivo</td><td>29</td><td>B2B</td><td>2</td><td>Renda Variável</td><td>Opção</td><td>29125.03</td><td>2021-10-31</td></tr><tr><td>112</td><td>Conservador</td><td>65</td><td>B2C</td><td>30</td><td>Pós-Fixado</td><td>Emissão Bancária</td><td>44293.97</td><td>2021-08-31</td></tr><tr><td>112</td><td>Conservador</td><td>65</td><td>B2C</td><td>29</td><td>Pós-Fixado</td><td>Emissão Bancária</td><td>97390.69</td><td>2021-08-31</td></tr><tr><td>112</td><td>Conservador</td><td>65</td><td>B2C</td><td>8</td><td>Renda Variável</td><td>Ação</td><td>16225.4</td><td>2021-08-31</td></tr><tr><td>112</td><td>Conservador</td><td>65</td><td>B2C</td><td>15</td><td>Renda Variável</td><td>Opção</td><td>73165.05</td><td>2021-09-30</td></tr><tr><td>112</td><td>Conservador</td><td>65</td><td>B2C</td><td>2</td><td>Renda Variável</td><td>Opção</td><td>13726.4</td><td>2021-09-30</td></tr></tbody></table></div>"
      ]
     },
     "metadata": {
      "application/vnd.databricks.v1+output": {
       "addedWidgets": {},
       "aggData": [],
       "aggError": "",
       "aggOverflow": false,
       "aggSchema": [],
       "aggSeriesLimitReached": false,
       "aggType": "",
       "arguments": {},
       "columnCustomDisplayInfos": {},
       "data": [
        [
         144,
         "Moderado",
         28,
         "B2B",
         47,
         "Internacional",
         "BDR",
         41304.72,
         "2021-08-31"
        ],
        [
         144,
         "Moderado",
         28,
         "B2B",
         35,
         "Pós-Fixado",
         "Fundo de investimentos",
         24514.96,
         "2021-08-31"
        ],
        [
         144,
         "Moderado",
         28,
         "B2B",
         39,
         "Pós-Fixado",
         "Fundo de investimentos",
         88908.01,
         "2021-08-31"
        ],
        [
         144,
         "Moderado",
         28,
         "B2B",
         10,
         "Renda Variável",
         "Ação",
         42419.84,
         "2021-09-30"
        ],
        [
         144,
         "Moderado",
         28,
         "B2B",
         38,
         "Pós-Fixado",
         "Fundo de investimentos",
         18148.95,
         "2021-09-30"
        ],
        [
         144,
         "Moderado",
         28,
         "B2B",
         27,
         "Pós-Fixado",
         "Emissão Bancária",
         51045.98,
         "2021-09-30"
        ],
        [
         144,
         "Moderado",
         28,
         "B2B",
         22,
         "Pós-Fixado",
         "Título Público",
         16103.64,
         "2021-10-31"
        ],
        [
         144,
         "Moderado",
         28,
         "B2B",
         36,
         "Pós-Fixado",
         "Fundo de investimentos",
         94690.75,
         "2021-10-31"
        ],
        [
         144,
         "Moderado",
         28,
         "B2B",
         8,
         "Renda Variável",
         "Ação",
         13270.2,
         "2021-10-31"
        ],
        [
         99,
         "Moderado",
         37,
         "B2C",
         13,
         "Renda Variável",
         "Ação",
         28935.01,
         "2021-08-31"
        ],
        [
         99,
         "Moderado",
         37,
         "B2C",
         23,
         "Pós-Fixado",
         "Emissão Bancária",
         46858.91,
         "2021-08-31"
        ],
        [
         99,
         "Moderado",
         37,
         "B2C",
         7,
         "Renda Variável",
         "Ação",
         89145.75,
         "2021-08-31"
        ],
        [
         99,
         "Moderado",
         37,
         "B2C",
         5,
         "Renda Variável",
         "Ação",
         60772.98,
         "2021-09-30"
        ],
        [
         99,
         "Moderado",
         37,
         "B2C",
         33,
         "Pós-Fixado",
         "Fundo de investimentos",
         20736.76,
         "2021-09-30"
        ],
        [
         99,
         "Moderado",
         37,
         "B2C",
         15,
         "Renda Variável",
         "Opção",
         27097.0,
         "2021-09-30"
        ],
        [
         13,
         "Moderado",
         53,
         "B2B",
         16,
         "Renda Variável",
         "Fundo de investimentos",
         51297.52,
         "2021-08-31"
        ],
        [
         13,
         "Moderado",
         53,
         "B2B",
         48,
         "Renda Variável",
         "Fundo de investimentos",
         77899.87,
         "2021-08-31"
        ],
        [
         13,
         "Moderado",
         53,
         "B2B",
         48,
         "Renda Variável",
         "Fundo de investimentos",
         86187.63,
         "2021-08-31"
        ],
        [
         13,
         "Moderado",
         53,
         "B2B",
         43,
         "Internacional",
         "BDR",
         8478.79,
         "2021-09-30"
        ],
        [
         13,
         "Moderado",
         53,
         "B2B",
         33,
         "Pós-Fixado",
         "Fundo de investimentos",
         62463.69,
         "2021-09-30"
        ],
        [
         13,
         "Moderado",
         53,
         "B2B",
         22,
         "Pós-Fixado",
         "Título Público",
         22741.72,
         "2021-09-30"
        ],
        [
         13,
         "Moderado",
         53,
         "B2B",
         25,
         "Pós-Fixado",
         "Título Público",
         31251.64,
         "2021-10-31"
        ],
        [
         13,
         "Moderado",
         53,
         "B2B",
         1,
         "Renda Variável",
         "Ação",
         56791.49,
         "2021-10-31"
        ],
        [
         13,
         "Moderado",
         53,
         "B2B",
         39,
         "Pós-Fixado",
         "Fundo de investimentos",
         85454.42,
         "2021-10-31"
        ],
        [
         81,
         "Agressivo",
         40,
         "B2B",
         17,
         "Renda Variável",
         "Fundo de investimentos",
         17364.95,
         "2021-08-31"
        ],
        [
         81,
         "Agressivo",
         40,
         "B2B",
         16,
         "Renda Variável",
         "Fundo de investimentos",
         35688.94,
         "2021-08-31"
        ],
        [
         81,
         "Agressivo",
         40,
         "B2B",
         45,
         "Internacional",
         "Fundo de investimentos",
         49798.66,
         "2021-08-31"
        ],
        [
         81,
         "Agressivo",
         40,
         "B2B",
         34,
         "Pós-Fixado",
         "Fundo de investimentos",
         55099.65,
         "2021-09-30"
        ],
        [
         81,
         "Agressivo",
         40,
         "B2B",
         16,
         "Renda Variável",
         "Fundo de investimentos",
         25665.82,
         "2021-09-30"
        ],
        [
         81,
         "Agressivo",
         40,
         "B2B",
         21,
         "Renda Variável",
         "Fundo imobiliário",
         70564.23,
         "2021-09-30"
        ],
        [
         81,
         "Agressivo",
         40,
         "B2B",
         46,
         "Internacional",
         "Fundo de investimentos",
         21460.77,
         "2021-10-31"
        ],
        [
         81,
         "Agressivo",
         40,
         "B2B",
         6,
         "Renda Variável",
         "Ação",
         56754.15,
         "2021-10-31"
        ],
        [
         81,
         "Agressivo",
         40,
         "B2B",
         4,
         "Renda Variável",
         "Fundo imobiliário",
         9849.21,
         "2021-10-31"
        ],
        [
         100,
         "Conservador",
         41,
         "B2B",
         46,
         "Internacional",
         "Fundo de investimentos",
         95049.11,
         "2021-08-31"
        ],
        [
         100,
         "Conservador",
         41,
         "B2B",
         28,
         "Pós-Fixado",
         "Emissão Bancária",
         69889.91,
         "2021-08-31"
        ],
        [
         100,
         "Conservador",
         41,
         "B2B",
         47,
         "Internacional",
         "BDR",
         33056.2,
         "2021-08-31"
        ],
        [
         100,
         "Conservador",
         41,
         "B2B",
         26,
         "Pós-Fixado",
         "Título Público",
         98776.6,
         "2021-09-30"
        ],
        [
         100,
         "Conservador",
         41,
         "B2B",
         37,
         "Pós-Fixado",
         "Fundo de investimentos",
         8751.79,
         "2021-09-30"
        ],
        [
         100,
         "Conservador",
         41,
         "B2B",
         43,
         "Internacional",
         "BDR",
         27619.47,
         "2021-09-30"
        ],
        [
         100,
         "Conservador",
         41,
         "B2B",
         36,
         "Pós-Fixado",
         "Fundo de investimentos",
         86527.75,
         "2021-10-31"
        ],
        [
         100,
         "Conservador",
         41,
         "B2B",
         45,
         "Internacional",
         "Fundo de investimentos",
         70229.62,
         "2021-10-31"
        ],
        [
         100,
         "Conservador",
         41,
         "B2B",
         3,
         "Renda Variável",
         "Fundo de investimentos",
         19047.98,
         "2021-10-31"
        ],
        [
         128,
         "Moderado",
         85,
         "B2B",
         45,
         "Internacional",
         "Fundo de investimentos",
         29189.02,
         "2021-08-31"
        ],
        [
         128,
         "Moderado",
         85,
         "B2B",
         40,
         "Internacional",
         "BDR",
         97498.78,
         "2021-08-31"
        ],
        [
         128,
         "Moderado",
         85,
         "B2B",
         23,
         "Pós-Fixado",
         "Emissão Bancária",
         49608.98,
         "2021-08-31"
        ],
        [
         128,
         "Moderado",
         85,
         "B2B",
         12,
         "Renda Variável",
         "Ação",
         14161.04,
         "2021-09-30"
        ],
        [
         128,
         "Moderado",
         85,
         "B2B",
         36,
         "Pós-Fixado",
         "Fundo de investimentos",
         64482.94,
         "2021-09-30"
        ],
        [
         128,
         "Moderado",
         85,
         "B2B",
         48,
         "Renda Variável",
         "Fundo de investimentos",
         27321.67,
         "2021-09-30"
        ],
        [
         128,
         "Moderado",
         85,
         "B2B",
         2,
         "Renda Variável",
         "Opção",
         64426.47,
         "2021-10-31"
        ],
        [
         128,
         "Moderado",
         85,
         "B2B",
         16,
         "Renda Variável",
         "Fundo de investimentos",
         87525.55,
         "2021-10-31"
        ],
        [
         128,
         "Moderado",
         85,
         "B2B",
         3,
         "Renda Variável",
         "Fundo de investimentos",
         17670.03,
         "2021-10-31"
        ],
        [
         74,
         "Agressivo",
         33,
         "B2C",
         26,
         "Pós-Fixado",
         "Título Público",
         24936.0,
         "2021-08-31"
        ],
        [
         74,
         "Agressivo",
         33,
         "B2C",
         39,
         "Pós-Fixado",
         "Fundo de investimentos",
         51508.58,
         "2021-08-31"
        ],
        [
         74,
         "Agressivo",
         33,
         "B2C",
         7,
         "Renda Variável",
         "Ação",
         84041.92,
         "2021-08-31"
        ],
        [
         74,
         "Agressivo",
         33,
         "B2C",
         28,
         "Pós-Fixado",
         "Emissão Bancária",
         41809.7,
         "2021-09-30"
        ],
        [
         74,
         "Agressivo",
         33,
         "B2C",
         45,
         "Internacional",
         "Fundo de investimentos",
         61725.54,
         "2021-09-30"
        ],
        [
         74,
         "Agressivo",
         33,
         "B2C",
         13,
         "Renda Variável",
         "Ação",
         77487.68,
         "2021-09-30"
        ],
        [
         74,
         "Agressivo",
         33,
         "B2C",
         41,
         "Internacional",
         "Fundo de investimentos",
         79146.74,
         "2021-10-31"
        ],
        [
         74,
         "Agressivo",
         33,
         "B2C",
         46,
         "Internacional",
         "Fundo de investimentos",
         54201.09,
         "2021-10-31"
        ],
        [
         74,
         "Agressivo",
         33,
         "B2C",
         41,
         "Internacional",
         "Fundo de investimentos",
         87940.29,
         "2021-10-31"
        ],
        [
         102,
         "Agressivo",
         45,
         "B2C",
         5,
         "Renda Variável",
         "Ação",
         98712.02,
         "2021-08-31"
        ],
        [
         102,
         "Agressivo",
         45,
         "B2C",
         49,
         "Pós-Fixado",
         "Fundo de investimentos",
         94304.48,
         "2021-08-31"
        ],
        [
         102,
         "Agressivo",
         45,
         "B2C",
         43,
         "Internacional",
         "BDR",
         44293.87,
         "2021-08-31"
        ],
        [
         102,
         "Agressivo",
         45,
         "B2C",
         46,
         "Internacional",
         "Fundo de investimentos",
         33929.67,
         "2021-09-30"
        ],
        [
         102,
         "Agressivo",
         45,
         "B2C",
         48,
         "Renda Variável",
         "Fundo de investimentos",
         45891.46,
         "2021-09-30"
        ],
        [
         102,
         "Agressivo",
         45,
         "B2C",
         45,
         "Internacional",
         "Fundo de investimentos",
         43639.08,
         "2021-09-30"
        ],
        [
         102,
         "Agressivo",
         45,
         "B2C",
         5,
         "Renda Variável",
         "Ação",
         50103.5,
         "2021-10-31"
        ],
        [
         102,
         "Agressivo",
         45,
         "B2C",
         6,
         "Renda Variável",
         "Ação",
         47800.44,
         "2021-10-31"
        ],
        [
         102,
         "Agressivo",
         45,
         "B2C",
         8,
         "Renda Variável",
         "Ação",
         11419.18,
         "2021-10-31"
        ],
        [
         40,
         "Conservador",
         21,
         "B2B",
         16,
         "Renda Variável",
         "Fundo de investimentos",
         50362.14,
         "2021-08-31"
        ],
        [
         40,
         "Conservador",
         21,
         "B2B",
         35,
         "Pós-Fixado",
         "Fundo de investimentos",
         66363.49,
         "2021-08-31"
        ],
        [
         40,
         "Conservador",
         21,
         "B2B",
         42,
         "Internacional",
         "BDR",
         51676.24,
         "2021-08-31"
        ],
        [
         40,
         "Conservador",
         21,
         "B2B",
         12,
         "Renda Variável",
         "Ação",
         49858.38,
         "2021-09-30"
        ],
        [
         40,
         "Conservador",
         21,
         "B2B",
         11,
         "Renda Variável",
         "Ação",
         23174.53,
         "2021-09-30"
        ],
        [
         40,
         "Conservador",
         21,
         "B2B",
         12,
         "Renda Variável",
         "Ação",
         21611.91,
         "2021-09-30"
        ],
        [
         40,
         "Conservador",
         21,
         "B2B",
         36,
         "Pós-Fixado",
         "Fundo de investimentos",
         81623.5,
         "2021-10-31"
        ],
        [
         40,
         "Conservador",
         21,
         "B2B",
         6,
         "Renda Variável",
         "Ação",
         43213.51,
         "2021-10-31"
        ],
        [
         40,
         "Conservador",
         21,
         "B2B",
         1,
         "Renda Variável",
         "Ação",
         72262.09,
         "2021-10-31"
        ],
        [
         23,
         "Agressivo",
         45,
         "B2C",
         40,
         "Internacional",
         "BDR",
         63500.9,
         "2021-08-31"
        ],
        [
         23,
         "Agressivo",
         45,
         "B2C",
         35,
         "Pós-Fixado",
         "Fundo de investimentos",
         58840.76,
         "2021-08-31"
        ],
        [
         23,
         "Agressivo",
         45,
         "B2C",
         28,
         "Pós-Fixado",
         "Emissão Bancária",
         6721.67,
         "2021-08-31"
        ],
        [
         23,
         "Agressivo",
         45,
         "B2C",
         3,
         "Renda Variável",
         "Fundo de investimentos",
         93390.99,
         "2021-09-30"
        ],
        [
         23,
         "Agressivo",
         45,
         "B2C",
         34,
         "Pós-Fixado",
         "Fundo de investimentos",
         20484.98,
         "2021-09-30"
        ],
        [
         23,
         "Agressivo",
         45,
         "B2C",
         39,
         "Pós-Fixado",
         "Fundo de investimentos",
         78044.34,
         "2021-09-30"
        ],
        [
         23,
         "Agressivo",
         45,
         "B2C",
         12,
         "Renda Variável",
         "Ação",
         81623.92,
         "2021-10-31"
        ],
        [
         23,
         "Agressivo",
         45,
         "B2C",
         31,
         "Pós-Fixado",
         "Emissão Bancária",
         82421.08,
         "2021-10-31"
        ],
        [
         23,
         "Agressivo",
         45,
         "B2C",
         48,
         "Renda Variável",
         "Fundo de investimentos",
         9163.84,
         "2021-10-31"
        ],
        [
         122,
         "Moderado",
         39,
         "B2C",
         4,
         "Renda Variável",
         "Fundo imobiliário",
         82504.43,
         "2021-08-31"
        ],
        [
         122,
         "Moderado",
         39,
         "B2C",
         42,
         "Internacional",
         "BDR",
         47750.05,
         "2021-08-31"
        ],
        [
         122,
         "Moderado",
         39,
         "B2C",
         5,
         "Renda Variável",
         "Ação",
         41871.06,
         "2021-08-31"
        ],
        [
         122,
         "Moderado",
         39,
         "B2C",
         27,
         "Pós-Fixado",
         "Emissão Bancária",
         42583.13,
         "2021-09-30"
        ],
        [
         122,
         "Moderado",
         39,
         "B2C",
         9,
         "Renda Variável",
         "Ação",
         92199.97,
         "2021-09-30"
        ],
        [
         122,
         "Moderado",
         39,
         "B2C",
         36,
         "Pós-Fixado",
         "Fundo de investimentos",
         28741.76,
         "2021-09-30"
        ],
        [
         122,
         "Moderado",
         39,
         "B2C",
         29,
         "Pós-Fixado",
         "Emissão Bancária",
         45662.64,
         "2021-10-31"
        ],
        [
         122,
         "Moderado",
         39,
         "B2C",
         42,
         "Internacional",
         "BDR",
         59592.68,
         "2021-10-31"
        ],
        [
         122,
         "Moderado",
         39,
         "B2C",
         46,
         "Internacional",
         "Fundo de investimentos",
         55997.6,
         "2021-10-31"
        ],
        [
         135,
         "Conservador",
         11,
         "B2B",
         20,
         "Renda Variável",
         "Fundo imobiliário",
         78676.57,
         "2021-08-31"
        ],
        [
         135,
         "Conservador",
         11,
         "B2B",
         8,
         "Renda Variável",
         "Ação",
         66928.7,
         "2021-08-31"
        ],
        [
         135,
         "Conservador",
         11,
         "B2B",
         2,
         "Renda Variável",
         "Opção",
         23363.56,
         "2021-08-31"
        ],
        [
         135,
         "Conservador",
         11,
         "B2B",
         41,
         "Internacional",
         "Fundo de investimentos",
         91750.96,
         "2021-09-30"
        ],
        [
         135,
         "Conservador",
         11,
         "B2B",
         42,
         "Internacional",
         "BDR",
         19419.06,
         "2021-09-30"
        ],
        [
         135,
         "Conservador",
         11,
         "B2B",
         35,
         "Pós-Fixado",
         "Fundo de investimentos",
         25970.78,
         "2021-09-30"
        ],
        [
         135,
         "Conservador",
         11,
         "B2B",
         47,
         "Internacional",
         "BDR",
         42395.36,
         "2021-10-31"
        ],
        [
         135,
         "Conservador",
         11,
         "B2B",
         25,
         "Pós-Fixado",
         "Título Público",
         83935.73,
         "2021-10-31"
        ],
        [
         135,
         "Conservador",
         11,
         "B2B",
         27,
         "Pós-Fixado",
         "Emissão Bancária",
         11891.9,
         "2021-10-31"
        ],
        [
         126,
         "Agressivo",
         72,
         "B2C",
         40,
         "Internacional",
         "BDR",
         14452.27,
         "2021-08-31"
        ],
        [
         126,
         "Agressivo",
         72,
         "B2C",
         18,
         "Renda Variável",
         "Fundo de investimentos",
         21698.3,
         "2021-08-31"
        ],
        [
         126,
         "Agressivo",
         72,
         "B2C",
         25,
         "Pós-Fixado",
         "Título Público",
         85834.05,
         "2021-08-31"
        ],
        [
         126,
         "Agressivo",
         72,
         "B2C",
         33,
         "Pós-Fixado",
         "Fundo de investimentos",
         60335.7,
         "2021-09-30"
        ],
        [
         126,
         "Agressivo",
         72,
         "B2C",
         31,
         "Pós-Fixado",
         "Emissão Bancária",
         92986.57,
         "2021-09-30"
        ],
        [
         126,
         "Agressivo",
         72,
         "B2C",
         9,
         "Renda Variável",
         "Ação",
         19838.32,
         "2021-09-30"
        ],
        [
         126,
         "Agressivo",
         72,
         "B2C",
         10,
         "Renda Variável",
         "Ação",
         5520.36,
         "2021-10-31"
        ],
        [
         126,
         "Agressivo",
         72,
         "B2C",
         27,
         "Pós-Fixado",
         "Emissão Bancária",
         95568.42,
         "2021-10-31"
        ],
        [
         126,
         "Agressivo",
         72,
         "B2C",
         21,
         "Renda Variável",
         "Fundo imobiliário",
         84931.64,
         "2021-10-31"
        ],
        [
         15,
         "Moderado",
         9,
         "B2C",
         7,
         "Renda Variável",
         "Ação",
         29146.94,
         "2021-08-31"
        ],
        [
         15,
         "Moderado",
         9,
         "B2C",
         28,
         "Pós-Fixado",
         "Emissão Bancária",
         81397.41,
         "2021-08-31"
        ],
        [
         15,
         "Moderado",
         9,
         "B2C",
         9,
         "Renda Variável",
         "Ação",
         92623.83,
         "2021-08-31"
        ],
        [
         15,
         "Moderado",
         9,
         "B2C",
         22,
         "Pós-Fixado",
         "Título Público",
         93949.66,
         "2021-09-30"
        ],
        [
         15,
         "Moderado",
         9,
         "B2C",
         28,
         "Pós-Fixado",
         "Emissão Bancária",
         83307.39,
         "2021-09-30"
        ],
        [
         15,
         "Moderado",
         9,
         "B2C",
         7,
         "Renda Variável",
         "Ação",
         13515.18,
         "2021-09-30"
        ],
        [
         15,
         "Moderado",
         9,
         "B2C",
         31,
         "Pós-Fixado",
         "Emissão Bancária",
         66046.85,
         "2021-10-31"
        ],
        [
         15,
         "Moderado",
         9,
         "B2C",
         20,
         "Renda Variável",
         "Fundo imobiliário",
         72008.73,
         "2021-10-31"
        ],
        [
         15,
         "Moderado",
         9,
         "B2C",
         29,
         "Pós-Fixado",
         "Emissão Bancária",
         31045.01,
         "2021-10-31"
        ],
        [
         124,
         "Conservador",
         32,
         "B2C",
         19,
         "Renda Variável",
         "Fundo imobiliário",
         69276.42,
         "2021-08-31"
        ],
        [
         124,
         "Conservador",
         32,
         "B2C",
         37,
         "Pós-Fixado",
         "Fundo de investimentos",
         10617.55,
         "2021-08-31"
        ],
        [
         124,
         "Conservador",
         32,
         "B2C",
         23,
         "Pós-Fixado",
         "Emissão Bancária",
         95423.54,
         "2021-08-31"
        ],
        [
         124,
         "Conservador",
         32,
         "B2C",
         11,
         "Renda Variável",
         "Ação",
         89925.98,
         "2021-09-30"
        ],
        [
         124,
         "Conservador",
         32,
         "B2C",
         15,
         "Renda Variável",
         "Opção",
         8636.53,
         "2021-09-30"
        ],
        [
         124,
         "Conservador",
         32,
         "B2C",
         46,
         "Internacional",
         "Fundo de investimentos",
         93695.97,
         "2021-09-30"
        ],
        [
         124,
         "Conservador",
         32,
         "B2C",
         17,
         "Renda Variável",
         "Fundo de investimentos",
         30822.9,
         "2021-10-31"
        ],
        [
         124,
         "Conservador",
         32,
         "B2C",
         41,
         "Internacional",
         "Fundo de investimentos",
         28027.89,
         "2021-10-31"
        ],
        [
         124,
         "Conservador",
         32,
         "B2C",
         27,
         "Pós-Fixado",
         "Emissão Bancária",
         2160.26,
         "2021-10-31"
        ],
        [
         87,
         "Agressivo",
         37,
         "B2C",
         21,
         "Renda Variável",
         "Fundo imobiliário",
         47754.9,
         "2021-08-31"
        ],
        [
         87,
         "Agressivo",
         37,
         "B2C",
         33,
         "Pós-Fixado",
         "Fundo de investimentos",
         36759.44,
         "2021-08-31"
        ],
        [
         87,
         "Agressivo",
         37,
         "B2C",
         27,
         "Pós-Fixado",
         "Emissão Bancária",
         26735.57,
         "2021-08-31"
        ],
        [
         87,
         "Agressivo",
         29,
         "B2B",
         8,
         "Renda Variável",
         "Ação",
         52992.9,
         "2021-08-31"
        ],
        [
         87,
         "Agressivo",
         29,
         "B2B",
         24,
         "Pós-Fixado",
         "Fundo de investimentos",
         82495.49,
         "2021-08-31"
        ],
        [
         87,
         "Agressivo",
         29,
         "B2B",
         39,
         "Pós-Fixado",
         "Fundo de investimentos",
         43922.72,
         "2021-09-30"
        ],
        [
         87,
         "Agressivo",
         29,
         "B2B",
         40,
         "Internacional",
         "BDR",
         89706.74,
         "2021-09-30"
        ],
        [
         87,
         "Agressivo",
         29,
         "B2B",
         8,
         "Renda Variável",
         "Ação",
         37020.57,
         "2021-09-30"
        ],
        [
         87,
         "Agressivo",
         29,
         "B2B",
         27,
         "Pós-Fixado",
         "Emissão Bancária",
         84326.34,
         "2021-10-31"
        ],
        [
         87,
         "Agressivo",
         29,
         "B2B",
         32,
         "Pós-Fixado",
         "Emissão Bancária",
         78755.54,
         "2021-10-31"
        ],
        [
         87,
         "Agressivo",
         29,
         "B2B",
         2,
         "Renda Variável",
         "Opção",
         29125.03,
         "2021-10-31"
        ],
        [
         112,
         "Conservador",
         65,
         "B2C",
         30,
         "Pós-Fixado",
         "Emissão Bancária",
         44293.97,
         "2021-08-31"
        ],
        [
         112,
         "Conservador",
         65,
         "B2C",
         29,
         "Pós-Fixado",
         "Emissão Bancária",
         97390.69,
         "2021-08-31"
        ],
        [
         112,
         "Conservador",
         65,
         "B2C",
         8,
         "Renda Variável",
         "Ação",
         16225.4,
         "2021-08-31"
        ],
        [
         112,
         "Conservador",
         65,
         "B2C",
         15,
         "Renda Variável",
         "Opção",
         73165.05,
         "2021-09-30"
        ],
        [
         112,
         "Conservador",
         65,
         "B2C",
         2,
         "Renda Variável",
         "Opção",
         13726.4,
         "2021-09-30"
        ]
       ],
       "datasetInfos": [],
       "dbfsResultPath": null,
       "isJsonSchema": true,
       "metadata": {},
       "overflow": false,
       "plotOptions": {
        "customPlotOptions": {},
        "displayType": "table",
        "pivotAggregation": null,
        "pivotColumns": null,
        "xColumns": null,
        "yColumns": null
       },
       "removedWidgets": [],
       "schema": [
        {
         "metadata": "{}",
         "name": "COD_DIM_CONTA",
         "type": "\"long\""
        },
        {
         "metadata": "{}",
         "name": "SUITABILITY",
         "type": "\"string\""
        },
        {
         "metadata": "{}",
         "name": "COD_DIM_CANAL_ASSESSOR",
         "type": "\"long\""
        },
        {
         "metadata": "{}",
         "name": "CANAL",
         "type": "\"string\""
        },
        {
         "metadata": "{}",
         "name": "COD_DIM_PRODUTO",
         "type": "\"long\""
        },
        {
         "metadata": "{}",
         "name": "CLASSE_N1",
         "type": "\"string\""
        },
        {
         "metadata": "{}",
         "name": "CLASSE_N2",
         "type": "\"string\""
        },
        {
         "metadata": "{}",
         "name": "VAL_POSICAO",
         "type": "\"double\""
        },
        {
         "metadata": "{}",
         "name": "COD_DIM_TEMPO",
         "type": "\"date\""
        }
       ],
       "type": "table"
      }
     },
     "output_type": "display_data"
    }
   ],
   "source": [
    "fat_custodia_conta_mensal = (\n",
    "    net_df\n",
    "    .join(canal_df, 'COD_DIM_CANAL_ASSESSOR', 'left')\n",
    "    .join(suitability_df, 'COD_DIM_CONTA', 'left')\n",
    "    .join(produto_df, 'COD_DIM_PRODUTO', 'left')\n",
    "    # .join(recomendacao_df, ['COD_DIM_TEMPO', 'SUITABILITY', 'CLASSE_N1'], 'left')\n",
    "    .withColumn(\n",
    "        'DATE', \n",
    "        F.to_date(F.col('COD_DIM_TEMPO').cast('string'), 'yyyMMdd')\n",
    "    )\n",
    "    .drop('COD_DIM_TEMPO')\n",
    "    .select(\n",
    "        'COD_DIM_CONTA',\n",
    "        'SUITABILITY',\n",
    "        'COD_DIM_CANAL_ASSESSOR',\n",
    "        'CANAL',\n",
    "        # 'ALOCACAO_RECOMENDADA',\n",
    "        'COD_DIM_PRODUTO',\n",
    "        'CLASSE_N1',\n",
    "        'CLASSE_N2',\n",
    "        'VAL_POSICAO',\n",
    "        F.col('DATE').alias('COD_DIM_TEMPO')\n",
    "    )\n",
    ")\n",
    "\n",
    "fat_custodia_conta_mensal.display()"
   ]
  },
  {
   "cell_type": "code",
   "execution_count": 0,
   "metadata": {
    "application/vnd.databricks.v1+cell": {
     "cellMetadata": {},
     "inputWidgets": {},
     "nuid": "79270a2a-ba13-479d-81a6-5acc17ab2fc2",
     "showTitle": false,
     "tableResultSettingsMap": {},
     "title": ""
    }
   },
   "outputs": [],
   "source": [
    "# salvar tabela\n",
    "# (\n",
    "#     fat_custodia_conta_mensal.write\n",
    "#         .mode(\"overwrite\")\n",
    "#         .option(\"overwriteSchema\", \"true\")\n",
    "#         .saveAsTable(\"fat_custodia_conta_mensal\")\n",
    "# )"
   ]
  },
  {
   "cell_type": "markdown",
   "metadata": {
    "application/vnd.databricks.v1+cell": {
     "cellMetadata": {},
     "inputWidgets": {},
     "nuid": "a0cf0c83-8a3a-4cbe-a946-dbff4117a5ef",
     "showTitle": false,
     "tableResultSettingsMap": {},
     "title": ""
    }
   },
   "source": [
    "# Desafio 1\n",
    "\n",
    "Usando a tabela gerada na primeira etapa com o nome de *fat_custodia_conta_mensal*, faça um agrupamento de tal forma que 1) exiba a custódia mais recente do cliente independente da estratégia e 2) em seguida crie uma coluna que exiba a alocação em cada estratégia de produto para cada cliente.\n",
    "\n",
    "Alocação: % de custódia que o produto tem na carteira"
   ]
  },
  {
   "cell_type": "markdown",
   "metadata": {
    "application/vnd.databricks.v1+cell": {
     "cellMetadata": {},
     "inputWidgets": {},
     "nuid": "12b0f2ad-4863-48a0-950a-969f64b33134",
     "showTitle": false,
     "tableResultSettingsMap": {},
     "title": ""
    }
   },
   "source": [
    "Layout de resultado esperado:\n",
    "\n",
    "| COD_DIM_CONTA | SUITABILITY | ESTRATEGIA     | CUSTODIA  | ALOCACAO            |\n",
    "|---------------|-------------|----------------|-----------|---------------------|\n",
    "| 13            | Moderado    | Internacional  | 8478.79   | 0.046 |\n",
    "| 13            | Moderado    | Pós-Fixado     | 116706.06 | 0.641  |\n",
    "| 13            | Moderado    | Renda Variável | 56791.49  | 0.312   |\n",
    "| 14            | Moderado    | Internacional  | 848.92   | 0.046 |\n",
    "| 14            | Moderado    | Pós-Fixado     | 116.61 | 0.641  |\n",
    "| 14            | Moderado    | Renda Variável | 791.44  | 0.312   |"
   ]
  },
  {
   "cell_type": "code",
   "execution_count": 0,
   "metadata": {
    "application/vnd.databricks.v1+cell": {
     "cellMetadata": {
      "byteLimit": 2048000,
      "rowLimit": 10000
     },
     "inputWidgets": {},
     "nuid": "4c39dc71-ee3e-4ad4-8f23-9be69b2a5f09",
     "showTitle": false,
     "tableResultSettingsMap": {},
     "title": ""
    }
   },
   "outputs": [
    {
     "output_type": "display_data",
     "data": {
      "text/html": [
       "<style scoped>\n",
       "  .table-result-container {\n",
       "    max-height: 300px;\n",
       "    overflow: auto;\n",
       "  }\n",
       "  table, th, td {\n",
       "    border: 1px solid black;\n",
       "    border-collapse: collapse;\n",
       "  }\n",
       "  th, td {\n",
       "    padding: 5px;\n",
       "  }\n",
       "  th {\n",
       "    text-align: left;\n",
       "  }\n",
       "</style><div class='table-result-container'><table class='table-result'><thead style='background-color: white'><tr><th>COD_DIM_CONTA</th><th>SUITABILITY</th><th>ESTRATEGIA</th><th>CUSTODIA</th><th>ALOCACAO</th></tr></thead><tbody><tr><td>13</td><td>Moderado</td><td>Pós-Fixado</td><td>31251.64</td><td>0.18</td></tr><tr><td>13</td><td>Moderado</td><td>Pós-Fixado</td><td>85454.42</td><td>0.493</td></tr><tr><td>13</td><td>Moderado</td><td>Renda Variável</td><td>56791.49</td><td>0.327</td></tr><tr><td>15</td><td>Moderado</td><td>Pós-Fixado</td><td>66046.85</td><td>0.391</td></tr><tr><td>15</td><td>Moderado</td><td>Pós-Fixado</td><td>31045.01</td><td>0.184</td></tr><tr><td>15</td><td>Moderado</td><td>Renda Variável</td><td>72008.73</td><td>0.426</td></tr><tr><td>23</td><td>Agressivo</td><td>Pós-Fixado</td><td>82421.08</td><td>0.476</td></tr><tr><td>23</td><td>Agressivo</td><td>Renda Variável</td><td>81623.92</td><td>0.471</td></tr><tr><td>23</td><td>Agressivo</td><td>Renda Variável</td><td>9163.84</td><td>0.053</td></tr><tr><td>40</td><td>Conservador</td><td>Pós-Fixado</td><td>81623.5</td><td>0.414</td></tr><tr><td>40</td><td>Conservador</td><td>Renda Variável</td><td>43213.51</td><td>0.219</td></tr><tr><td>40</td><td>Conservador</td><td>Renda Variável</td><td>72262.09</td><td>0.367</td></tr><tr><td>74</td><td>Agressivo</td><td>Internacional</td><td>79146.74</td><td>0.358</td></tr><tr><td>74</td><td>Agressivo</td><td>Internacional</td><td>54201.09</td><td>0.245</td></tr><tr><td>74</td><td>Agressivo</td><td>Internacional</td><td>87940.29</td><td>0.397</td></tr><tr><td>81</td><td>Agressivo</td><td>Internacional</td><td>21460.77</td><td>0.244</td></tr><tr><td>81</td><td>Agressivo</td><td>Renda Variável</td><td>56754.15</td><td>0.644</td></tr><tr><td>81</td><td>Agressivo</td><td>Renda Variável</td><td>9849.21</td><td>0.112</td></tr><tr><td>87</td><td>Agressivo</td><td>Pós-Fixado</td><td>84326.34</td><td>0.439</td></tr><tr><td>87</td><td>Agressivo</td><td>Pós-Fixado</td><td>78755.54</td><td>0.41</td></tr><tr><td>87</td><td>Agressivo</td><td>Renda Variável</td><td>29125.03</td><td>0.152</td></tr><tr><td>99</td><td>Moderado</td><td>Pós-Fixado</td><td>20736.76</td><td>0.191</td></tr><tr><td>99</td><td>Moderado</td><td>Renda Variável</td><td>60772.98</td><td>0.56</td></tr><tr><td>99</td><td>Moderado</td><td>Renda Variável</td><td>27097.0</td><td>0.249</td></tr><tr><td>100</td><td>Conservador</td><td>Internacional</td><td>70229.62</td><td>0.399</td></tr><tr><td>100</td><td>Conservador</td><td>Pós-Fixado</td><td>86527.75</td><td>0.492</td></tr><tr><td>100</td><td>Conservador</td><td>Renda Variável</td><td>19047.98</td><td>0.108</td></tr><tr><td>102</td><td>Agressivo</td><td>Renda Variável</td><td>50103.5</td><td>0.458</td></tr><tr><td>102</td><td>Agressivo</td><td>Renda Variável</td><td>47800.44</td><td>0.437</td></tr><tr><td>102</td><td>Agressivo</td><td>Renda Variável</td><td>11419.18</td><td>0.104</td></tr><tr><td>112</td><td>Conservador</td><td>Renda Variável</td><td>73165.05</td><td>0.842</td></tr><tr><td>112</td><td>Conservador</td><td>Renda Variável</td><td>13726.4</td><td>0.158</td></tr><tr><td>122</td><td>Moderado</td><td>Internacional</td><td>59592.68</td><td>0.37</td></tr><tr><td>122</td><td>Moderado</td><td>Internacional</td><td>55997.6</td><td>0.347</td></tr><tr><td>122</td><td>Moderado</td><td>Pós-Fixado</td><td>45662.64</td><td>0.283</td></tr><tr><td>124</td><td>Conservador</td><td>Internacional</td><td>28027.89</td><td>0.459</td></tr><tr><td>124</td><td>Conservador</td><td>Pós-Fixado</td><td>2160.26</td><td>0.035</td></tr><tr><td>124</td><td>Conservador</td><td>Renda Variável</td><td>30822.9</td><td>0.505</td></tr><tr><td>126</td><td>Agressivo</td><td>Pós-Fixado</td><td>95568.42</td><td>0.514</td></tr><tr><td>126</td><td>Agressivo</td><td>Renda Variável</td><td>5520.36</td><td>0.03</td></tr><tr><td>126</td><td>Agressivo</td><td>Renda Variável</td><td>84931.64</td><td>0.457</td></tr><tr><td>128</td><td>Moderado</td><td>Renda Variável</td><td>64426.47</td><td>0.38</td></tr><tr><td>128</td><td>Moderado</td><td>Renda Variável</td><td>87525.55</td><td>0.516</td></tr><tr><td>128</td><td>Moderado</td><td>Renda Variável</td><td>17670.03</td><td>0.104</td></tr><tr><td>135</td><td>Conservador</td><td>Internacional</td><td>42395.36</td><td>0.307</td></tr><tr><td>135</td><td>Conservador</td><td>Pós-Fixado</td><td>83935.73</td><td>0.607</td></tr><tr><td>135</td><td>Conservador</td><td>Pós-Fixado</td><td>11891.9</td><td>0.086</td></tr><tr><td>144</td><td>Moderado</td><td>Pós-Fixado</td><td>16103.64</td><td>0.13</td></tr><tr><td>144</td><td>Moderado</td><td>Pós-Fixado</td><td>94690.75</td><td>0.763</td></tr><tr><td>144</td><td>Moderado</td><td>Renda Variável</td><td>13270.2</td><td>0.107</td></tr></tbody></table></div>"
      ]
     },
     "metadata": {
      "application/vnd.databricks.v1+output": {
       "addedWidgets": {},
       "aggData": [],
       "aggError": "",
       "aggOverflow": false,
       "aggSchema": [],
       "aggSeriesLimitReached": false,
       "aggType": "",
       "arguments": {},
       "columnCustomDisplayInfos": {},
       "data": [
        [
         13,
         "Moderado",
         "Pós-Fixado",
         31251.64,
         0.18
        ],
        [
         13,
         "Moderado",
         "Pós-Fixado",
         85454.42,
         0.493
        ],
        [
         13,
         "Moderado",
         "Renda Variável",
         56791.49,
         0.327
        ],
        [
         15,
         "Moderado",
         "Pós-Fixado",
         66046.85,
         0.391
        ],
        [
         15,
         "Moderado",
         "Pós-Fixado",
         31045.01,
         0.184
        ],
        [
         15,
         "Moderado",
         "Renda Variável",
         72008.73,
         0.426
        ],
        [
         23,
         "Agressivo",
         "Pós-Fixado",
         82421.08,
         0.476
        ],
        [
         23,
         "Agressivo",
         "Renda Variável",
         81623.92,
         0.471
        ],
        [
         23,
         "Agressivo",
         "Renda Variável",
         9163.84,
         0.053
        ],
        [
         40,
         "Conservador",
         "Pós-Fixado",
         81623.5,
         0.414
        ],
        [
         40,
         "Conservador",
         "Renda Variável",
         43213.51,
         0.219
        ],
        [
         40,
         "Conservador",
         "Renda Variável",
         72262.09,
         0.367
        ],
        [
         74,
         "Agressivo",
         "Internacional",
         79146.74,
         0.358
        ],
        [
         74,
         "Agressivo",
         "Internacional",
         54201.09,
         0.245
        ],
        [
         74,
         "Agressivo",
         "Internacional",
         87940.29,
         0.397
        ],
        [
         81,
         "Agressivo",
         "Internacional",
         21460.77,
         0.244
        ],
        [
         81,
         "Agressivo",
         "Renda Variável",
         56754.15,
         0.644
        ],
        [
         81,
         "Agressivo",
         "Renda Variável",
         9849.21,
         0.112
        ],
        [
         87,
         "Agressivo",
         "Pós-Fixado",
         84326.34,
         0.439
        ],
        [
         87,
         "Agressivo",
         "Pós-Fixado",
         78755.54,
         0.41
        ],
        [
         87,
         "Agressivo",
         "Renda Variável",
         29125.03,
         0.152
        ],
        [
         99,
         "Moderado",
         "Pós-Fixado",
         20736.76,
         0.191
        ],
        [
         99,
         "Moderado",
         "Renda Variável",
         60772.98,
         0.56
        ],
        [
         99,
         "Moderado",
         "Renda Variável",
         27097.0,
         0.249
        ],
        [
         100,
         "Conservador",
         "Internacional",
         70229.62,
         0.399
        ],
        [
         100,
         "Conservador",
         "Pós-Fixado",
         86527.75,
         0.492
        ],
        [
         100,
         "Conservador",
         "Renda Variável",
         19047.98,
         0.108
        ],
        [
         102,
         "Agressivo",
         "Renda Variável",
         50103.5,
         0.458
        ],
        [
         102,
         "Agressivo",
         "Renda Variável",
         47800.44,
         0.437
        ],
        [
         102,
         "Agressivo",
         "Renda Variável",
         11419.18,
         0.104
        ],
        [
         112,
         "Conservador",
         "Renda Variável",
         73165.05,
         0.842
        ],
        [
         112,
         "Conservador",
         "Renda Variável",
         13726.4,
         0.158
        ],
        [
         122,
         "Moderado",
         "Internacional",
         59592.68,
         0.37
        ],
        [
         122,
         "Moderado",
         "Internacional",
         55997.6,
         0.347
        ],
        [
         122,
         "Moderado",
         "Pós-Fixado",
         45662.64,
         0.283
        ],
        [
         124,
         "Conservador",
         "Internacional",
         28027.89,
         0.459
        ],
        [
         124,
         "Conservador",
         "Pós-Fixado",
         2160.26,
         0.035
        ],
        [
         124,
         "Conservador",
         "Renda Variável",
         30822.9,
         0.505
        ],
        [
         126,
         "Agressivo",
         "Pós-Fixado",
         95568.42,
         0.514
        ],
        [
         126,
         "Agressivo",
         "Renda Variável",
         5520.36,
         0.03
        ],
        [
         126,
         "Agressivo",
         "Renda Variável",
         84931.64,
         0.457
        ],
        [
         128,
         "Moderado",
         "Renda Variável",
         64426.47,
         0.38
        ],
        [
         128,
         "Moderado",
         "Renda Variável",
         87525.55,
         0.516
        ],
        [
         128,
         "Moderado",
         "Renda Variável",
         17670.03,
         0.104
        ],
        [
         135,
         "Conservador",
         "Internacional",
         42395.36,
         0.307
        ],
        [
         135,
         "Conservador",
         "Pós-Fixado",
         83935.73,
         0.607
        ],
        [
         135,
         "Conservador",
         "Pós-Fixado",
         11891.9,
         0.086
        ],
        [
         144,
         "Moderado",
         "Pós-Fixado",
         16103.64,
         0.13
        ],
        [
         144,
         "Moderado",
         "Pós-Fixado",
         94690.75,
         0.763
        ],
        [
         144,
         "Moderado",
         "Renda Variável",
         13270.2,
         0.107
        ]
       ],
       "datasetInfos": [],
       "dbfsResultPath": null,
       "isJsonSchema": true,
       "metadata": {},
       "overflow": false,
       "plotOptions": {
        "customPlotOptions": {},
        "displayType": "table",
        "pivotAggregation": null,
        "pivotColumns": null,
        "xColumns": null,
        "yColumns": null
       },
       "removedWidgets": [],
       "schema": [
        {
         "metadata": "{}",
         "name": "COD_DIM_CONTA",
         "type": "\"long\""
        },
        {
         "metadata": "{}",
         "name": "SUITABILITY",
         "type": "\"string\""
        },
        {
         "metadata": "{}",
         "name": "ESTRATEGIA",
         "type": "\"string\""
        },
        {
         "metadata": "{}",
         "name": "CUSTODIA",
         "type": "\"double\""
        },
        {
         "metadata": "{}",
         "name": "ALOCACAO",
         "type": "\"double\""
        }
       ],
       "type": "table"
      }
     },
     "output_type": "display_data"
    }
   ],
   "source": [
    "w1 = Window.partitionBy('COD_DIM_CONTA')\n",
    "\n",
    "custodia_estrategia_atual_df = (\n",
    "    fat_custodia_conta_mensal\n",
    "    .withColumn(\n",
    "        'MAX_DATE', \n",
    "        F.max('COD_DIM_TEMPO').over(w1)\n",
    "    )\n",
    "    .filter(F.col('COD_DIM_TEMPO') == F.col('MAX_DATE'))\n",
    "    .withColumn(\n",
    "        'SOMA',\n",
    "        F.sum('VAL_POSICAO').over(w1)\n",
    "    )\n",
    "    .withColumn(\n",
    "        'ALOCACAO',\n",
    "        F.round(F.col('VAL_POSICAO') / F.col('SOMA'), 3)\n",
    "    )\n",
    "    .select(\n",
    "        'COD_DIM_CONTA',\n",
    "        'SUITABILITY',\n",
    "        F.col('CLASSE_N1').alias('ESTRATEGIA'),\n",
    "        F.col('VAL_POSICAO').alias('CUSTODIA'),\n",
    "        'ALOCACAO'\n",
    "    )\n",
    "    .orderBy('COD_DIM_CONTA', 'ESTRATEGIA')\n",
    ")\n",
    "\n",
    "custodia_estrategia_atual_df.display()"
   ]
  },
  {
   "cell_type": "markdown",
   "metadata": {
    "application/vnd.databricks.v1+cell": {
     "cellMetadata": {},
     "inputWidgets": {},
     "nuid": "7f6a30fc-fb96-4bde-aa70-b91bd181e309",
     "showTitle": false,
     "tableResultSettingsMap": {},
     "title": ""
    }
   },
   "source": [
    "# Desafio 2\n",
    "\n",
    "Calcule a diferença de alocação em cada estratégia de produto baseado na alocação recomendada pela tabela *FAT_RECOMENDACAO*. Essa nova coluna deve mostrar a diferença em pontos percentuais (valor absoluto) entre a carteira do cliente e a carteira recomendada. Após isso filtre os 5 clientes com maior diferença de alocação.\n",
    "\n",
    "**Notas:**\n",
    "- Para filtrar os 5 clientes com maior diferença de alocação é preciso descobrir a diferença de alocação total por cliente (desconsiderando a quebra de estratégia).\n",
    "- Adote como premissa que vamos usar a recomendação mais recente da fat_recomendacao, você pode fazer isso filtrando a data máxima"
   ]
  },
  {
   "cell_type": "markdown",
   "metadata": {
    "application/vnd.databricks.v1+cell": {
     "cellMetadata": {},
     "inputWidgets": {},
     "nuid": "d2efd55d-fbc1-482f-81ec-77a0e46d535a",
     "showTitle": false,
     "tableResultSettingsMap": {},
     "title": ""
    }
   },
   "source": [
    "Nessa etapa você precisará usar o resultado do exercício anterior. \n",
    "\n",
    "Além de usar o resultado do exercício anterior, use a tabela fat_recomendacao disponibilizada para chegar ao resultado esperado, lembrando que a recomendação é feita para cada classe de ativo de acordo com o suitability e isso pode mudar todos os meses\n"
   ]
  },
  {
   "cell_type": "markdown",
   "metadata": {
    "application/vnd.databricks.v1+cell": {
     "cellMetadata": {},
     "inputWidgets": {},
     "nuid": "aaec9063-dd86-4eac-b6de-443def6ba0e7",
     "showTitle": false,
     "tableResultSettingsMap": {},
     "title": ""
    }
   },
   "source": [
    "Layout de resultado esperado:\n",
    "\n",
    "| COD_DIM_CONTA | SUITABILITY | ESTRATEGIA     | CUSTODIA | ALOCACAO            | ALOCACAO_RECOMENDADA | DESVIO_ALOCACAO     |\n",
    "|---------------|-------------|----------------|----------|---------------------|----------------------|---------------------|\n",
    "| 40            | Conservador | Internacional  | 51676.24 | 0.207 | 0.1                  | 0.107 |\n",
    "| 40            | Conservador | Pós-Fixado     | 81623.5  | 0.328 | 0.9                  | 0.571  |\n",
    "| 40            | Conservador | Renda Variável | 115475.6 | 0.464  | 0                   | 0.464  |"
   ]
  },
  {
   "cell_type": "code",
   "execution_count": 0,
   "metadata": {
    "application/vnd.databricks.v1+cell": {
     "cellMetadata": {
      "byteLimit": 2048000,
      "rowLimit": 10000
     },
     "inputWidgets": {},
     "nuid": "c3843169-ee4e-4ef1-8e3d-8f65b0f64e73",
     "showTitle": false,
     "tableResultSettingsMap": {},
     "title": ""
    }
   },
   "outputs": [
    {
     "output_type": "display_data",
     "data": {
      "text/html": [
       "<style scoped>\n",
       "  .table-result-container {\n",
       "    max-height: 300px;\n",
       "    overflow: auto;\n",
       "  }\n",
       "  table, th, td {\n",
       "    border: 1px solid black;\n",
       "    border-collapse: collapse;\n",
       "  }\n",
       "  th, td {\n",
       "    padding: 5px;\n",
       "  }\n",
       "  th {\n",
       "    text-align: left;\n",
       "  }\n",
       "</style><div class='table-result-container'><table class='table-result'><thead style='background-color: white'><tr><th>SUITABILITY</th><th>ESTRATEGIA</th><th>ALOCACAO_RECOMENDADA</th></tr></thead><tbody><tr><td>Agressivo</td><td>Internacional</td><td>0.29</td></tr><tr><td>Agressivo</td><td>Pós-Fixado</td><td>0.29</td></tr><tr><td>Agressivo</td><td>Renda Variável</td><td>0.42</td></tr><tr><td>Conservador</td><td>Internacional</td><td>0.1</td></tr><tr><td>Conservador</td><td>Pós-Fixado</td><td>0.9</td></tr><tr><td>Conservador</td><td>Renda Variável</td><td>0.0</td></tr><tr><td>Moderado</td><td>Internacional</td><td>0.1</td></tr><tr><td>Moderado</td><td>Pós-Fixado</td><td>0.8</td></tr><tr><td>Moderado</td><td>Renda Variável</td><td>0.1</td></tr></tbody></table></div>"
      ]
     },
     "metadata": {
      "application/vnd.databricks.v1+output": {
       "addedWidgets": {},
       "aggData": [],
       "aggError": "",
       "aggOverflow": false,
       "aggSchema": [],
       "aggSeriesLimitReached": false,
       "aggType": "",
       "arguments": {},
       "columnCustomDisplayInfos": {},
       "data": [
        [
         "Agressivo",
         "Internacional",
         0.29
        ],
        [
         "Agressivo",
         "Pós-Fixado",
         0.29
        ],
        [
         "Agressivo",
         "Renda Variável",
         0.42
        ],
        [
         "Conservador",
         "Internacional",
         0.1
        ],
        [
         "Conservador",
         "Pós-Fixado",
         0.9
        ],
        [
         "Conservador",
         "Renda Variável",
         0.0
        ],
        [
         "Moderado",
         "Internacional",
         0.1
        ],
        [
         "Moderado",
         "Pós-Fixado",
         0.8
        ],
        [
         "Moderado",
         "Renda Variável",
         0.1
        ]
       ],
       "datasetInfos": [],
       "dbfsResultPath": null,
       "isJsonSchema": true,
       "metadata": {},
       "overflow": false,
       "plotOptions": {
        "customPlotOptions": {},
        "displayType": "table",
        "pivotAggregation": null,
        "pivotColumns": null,
        "xColumns": null,
        "yColumns": null
       },
       "removedWidgets": [],
       "schema": [
        {
         "metadata": "{}",
         "name": "SUITABILITY",
         "type": "\"string\""
        },
        {
         "metadata": "{}",
         "name": "ESTRATEGIA",
         "type": "\"string\""
        },
        {
         "metadata": "{}",
         "name": "ALOCACAO_RECOMENDADA",
         "type": "\"double\""
        }
       ],
       "type": "table"
      }
     },
     "output_type": "display_data"
    }
   ],
   "source": [
    "# recomendação mais recente\n",
    "w2 = Window.partitionBy('SUITABILITY', 'CLASSE_N1')\n",
    "\n",
    "max_recomendacao_df = (\n",
    "    recomendacao_df\n",
    "    .withColumn(\n",
    "        'DATE', \n",
    "        F.to_date(F.col('COD_DIM_TEMPO').cast('string'), 'yyyMMdd')\n",
    ")\n",
    "    .withColumn('MAX_DATE', F.max('DATE').over(w2))\n",
    "    .filter(F.col('DATE') == F.col('MAX_DATE'))\n",
    "    .select('SUITABILITY', F.col('CLASSE_N1').alias('ESTRATEGIA'), 'ALOCACAO_RECOMENDADA')\n",
    "    .orderBy('SUITABILITY', 'ESTRATEGIA')\n",
    ")\n",
    "\n",
    "max_recomendacao_df.display()"
   ]
  },
  {
   "cell_type": "code",
   "execution_count": 0,
   "metadata": {
    "application/vnd.databricks.v1+cell": {
     "cellMetadata": {
      "byteLimit": 2048000,
      "rowLimit": 10000
     },
     "inputWidgets": {},
     "nuid": "120b077b-14a8-4281-a31c-cd21b4c0f173",
     "showTitle": false,
     "tableResultSettingsMap": {},
     "title": ""
    }
   },
   "outputs": [
    {
     "output_type": "display_data",
     "data": {
      "text/html": [
       "<style scoped>\n",
       "  .table-result-container {\n",
       "    max-height: 300px;\n",
       "    overflow: auto;\n",
       "  }\n",
       "  table, th, td {\n",
       "    border: 1px solid black;\n",
       "    border-collapse: collapse;\n",
       "  }\n",
       "  th, td {\n",
       "    padding: 5px;\n",
       "  }\n",
       "  th {\n",
       "    text-align: left;\n",
       "  }\n",
       "</style><div class='table-result-container'><table class='table-result'><thead style='background-color: white'><tr><th>COD_DIM_CONTA</th><th>SUITABILITY</th><th>ESTRATEGIA</th><th>CUSTODIA</th><th>ALOCACAO</th><th>ALOCACAO_RECOMENDADA</th><th>DESVIO_ALOCACAO</th></tr></thead><tbody><tr><td>13</td><td>Moderado</td><td>Pós-Fixado</td><td>31251.64</td><td>0.18</td><td>0.8</td><td>0.62</td></tr><tr><td>13</td><td>Moderado</td><td>Pós-Fixado</td><td>85454.42</td><td>0.493</td><td>0.8</td><td>0.307</td></tr><tr><td>13</td><td>Moderado</td><td>Renda Variável</td><td>56791.49</td><td>0.327</td><td>0.1</td><td>0.227</td></tr><tr><td>15</td><td>Moderado</td><td>Pós-Fixado</td><td>66046.85</td><td>0.391</td><td>0.8</td><td>0.409</td></tr><tr><td>15</td><td>Moderado</td><td>Pós-Fixado</td><td>31045.01</td><td>0.184</td><td>0.8</td><td>0.616</td></tr><tr><td>15</td><td>Moderado</td><td>Renda Variável</td><td>72008.73</td><td>0.426</td><td>0.1</td><td>0.326</td></tr><tr><td>23</td><td>Agressivo</td><td>Pós-Fixado</td><td>82421.08</td><td>0.476</td><td>0.29</td><td>0.186</td></tr><tr><td>23</td><td>Agressivo</td><td>Renda Variável</td><td>81623.92</td><td>0.471</td><td>0.42</td><td>0.051</td></tr><tr><td>23</td><td>Agressivo</td><td>Renda Variável</td><td>9163.84</td><td>0.053</td><td>0.42</td><td>0.367</td></tr><tr><td>40</td><td>Conservador</td><td>Pós-Fixado</td><td>81623.5</td><td>0.414</td><td>0.9</td><td>0.486</td></tr><tr><td>40</td><td>Conservador</td><td>Renda Variável</td><td>43213.51</td><td>0.219</td><td>0.0</td><td>0.219</td></tr><tr><td>40</td><td>Conservador</td><td>Renda Variável</td><td>72262.09</td><td>0.367</td><td>0.0</td><td>0.367</td></tr><tr><td>74</td><td>Agressivo</td><td>Internacional</td><td>79146.74</td><td>0.358</td><td>0.29</td><td>0.068</td></tr><tr><td>74</td><td>Agressivo</td><td>Internacional</td><td>54201.09</td><td>0.245</td><td>0.29</td><td>0.045</td></tr><tr><td>74</td><td>Agressivo</td><td>Internacional</td><td>87940.29</td><td>0.397</td><td>0.29</td><td>0.107</td></tr><tr><td>81</td><td>Agressivo</td><td>Internacional</td><td>21460.77</td><td>0.244</td><td>0.29</td><td>0.046</td></tr><tr><td>81</td><td>Agressivo</td><td>Renda Variável</td><td>56754.15</td><td>0.644</td><td>0.42</td><td>0.224</td></tr><tr><td>81</td><td>Agressivo</td><td>Renda Variável</td><td>9849.21</td><td>0.112</td><td>0.42</td><td>0.308</td></tr><tr><td>87</td><td>Agressivo</td><td>Pós-Fixado</td><td>84326.34</td><td>0.439</td><td>0.29</td><td>0.149</td></tr><tr><td>87</td><td>Agressivo</td><td>Pós-Fixado</td><td>78755.54</td><td>0.41</td><td>0.29</td><td>0.12</td></tr><tr><td>87</td><td>Agressivo</td><td>Renda Variável</td><td>29125.03</td><td>0.152</td><td>0.42</td><td>0.268</td></tr><tr><td>99</td><td>Moderado</td><td>Pós-Fixado</td><td>20736.76</td><td>0.191</td><td>0.8</td><td>0.609</td></tr><tr><td>99</td><td>Moderado</td><td>Renda Variável</td><td>60772.98</td><td>0.56</td><td>0.1</td><td>0.46</td></tr><tr><td>99</td><td>Moderado</td><td>Renda Variável</td><td>27097.0</td><td>0.249</td><td>0.1</td><td>0.149</td></tr><tr><td>100</td><td>Conservador</td><td>Internacional</td><td>70229.62</td><td>0.399</td><td>0.1</td><td>0.299</td></tr><tr><td>100</td><td>Conservador</td><td>Pós-Fixado</td><td>86527.75</td><td>0.492</td><td>0.9</td><td>0.408</td></tr><tr><td>100</td><td>Conservador</td><td>Renda Variável</td><td>19047.98</td><td>0.108</td><td>0.0</td><td>0.108</td></tr><tr><td>102</td><td>Agressivo</td><td>Renda Variável</td><td>50103.5</td><td>0.458</td><td>0.42</td><td>0.038</td></tr><tr><td>102</td><td>Agressivo</td><td>Renda Variável</td><td>47800.44</td><td>0.437</td><td>0.42</td><td>0.017</td></tr><tr><td>102</td><td>Agressivo</td><td>Renda Variável</td><td>11419.18</td><td>0.104</td><td>0.42</td><td>0.316</td></tr><tr><td>112</td><td>Conservador</td><td>Renda Variável</td><td>73165.05</td><td>0.842</td><td>0.0</td><td>0.842</td></tr><tr><td>112</td><td>Conservador</td><td>Renda Variável</td><td>13726.4</td><td>0.158</td><td>0.0</td><td>0.158</td></tr><tr><td>122</td><td>Moderado</td><td>Internacional</td><td>59592.68</td><td>0.37</td><td>0.1</td><td>0.27</td></tr><tr><td>122</td><td>Moderado</td><td>Internacional</td><td>55997.6</td><td>0.347</td><td>0.1</td><td>0.247</td></tr><tr><td>122</td><td>Moderado</td><td>Pós-Fixado</td><td>45662.64</td><td>0.283</td><td>0.8</td><td>0.517</td></tr><tr><td>124</td><td>Conservador</td><td>Internacional</td><td>28027.89</td><td>0.459</td><td>0.1</td><td>0.359</td></tr><tr><td>124</td><td>Conservador</td><td>Pós-Fixado</td><td>2160.26</td><td>0.035</td><td>0.9</td><td>0.865</td></tr><tr><td>124</td><td>Conservador</td><td>Renda Variável</td><td>30822.9</td><td>0.505</td><td>0.0</td><td>0.505</td></tr><tr><td>126</td><td>Agressivo</td><td>Pós-Fixado</td><td>95568.42</td><td>0.514</td><td>0.29</td><td>0.224</td></tr><tr><td>126</td><td>Agressivo</td><td>Renda Variável</td><td>5520.36</td><td>0.03</td><td>0.42</td><td>0.39</td></tr><tr><td>126</td><td>Agressivo</td><td>Renda Variável</td><td>84931.64</td><td>0.457</td><td>0.42</td><td>0.037</td></tr><tr><td>128</td><td>Moderado</td><td>Renda Variável</td><td>64426.47</td><td>0.38</td><td>0.1</td><td>0.28</td></tr><tr><td>128</td><td>Moderado</td><td>Renda Variável</td><td>87525.55</td><td>0.516</td><td>0.1</td><td>0.416</td></tr><tr><td>128</td><td>Moderado</td><td>Renda Variável</td><td>17670.03</td><td>0.104</td><td>0.1</td><td>0.004</td></tr><tr><td>135</td><td>Conservador</td><td>Internacional</td><td>42395.36</td><td>0.307</td><td>0.1</td><td>0.207</td></tr><tr><td>135</td><td>Conservador</td><td>Pós-Fixado</td><td>83935.73</td><td>0.607</td><td>0.9</td><td>0.293</td></tr><tr><td>135</td><td>Conservador</td><td>Pós-Fixado</td><td>11891.9</td><td>0.086</td><td>0.9</td><td>0.814</td></tr><tr><td>144</td><td>Moderado</td><td>Pós-Fixado</td><td>16103.64</td><td>0.13</td><td>0.8</td><td>0.67</td></tr><tr><td>144</td><td>Moderado</td><td>Pós-Fixado</td><td>94690.75</td><td>0.763</td><td>0.8</td><td>0.037</td></tr><tr><td>144</td><td>Moderado</td><td>Renda Variável</td><td>13270.2</td><td>0.107</td><td>0.1</td><td>0.007</td></tr></tbody></table></div>"
      ]
     },
     "metadata": {
      "application/vnd.databricks.v1+output": {
       "addedWidgets": {},
       "aggData": [],
       "aggError": "",
       "aggOverflow": false,
       "aggSchema": [],
       "aggSeriesLimitReached": false,
       "aggType": "",
       "arguments": {},
       "columnCustomDisplayInfos": {},
       "data": [
        [
         13,
         "Moderado",
         "Pós-Fixado",
         31251.64,
         0.18,
         0.8,
         0.62
        ],
        [
         13,
         "Moderado",
         "Pós-Fixado",
         85454.42,
         0.493,
         0.8,
         0.307
        ],
        [
         13,
         "Moderado",
         "Renda Variável",
         56791.49,
         0.327,
         0.1,
         0.227
        ],
        [
         15,
         "Moderado",
         "Pós-Fixado",
         66046.85,
         0.391,
         0.8,
         0.409
        ],
        [
         15,
         "Moderado",
         "Pós-Fixado",
         31045.01,
         0.184,
         0.8,
         0.616
        ],
        [
         15,
         "Moderado",
         "Renda Variável",
         72008.73,
         0.426,
         0.1,
         0.326
        ],
        [
         23,
         "Agressivo",
         "Pós-Fixado",
         82421.08,
         0.476,
         0.29,
         0.186
        ],
        [
         23,
         "Agressivo",
         "Renda Variável",
         81623.92,
         0.471,
         0.42,
         0.051
        ],
        [
         23,
         "Agressivo",
         "Renda Variável",
         9163.84,
         0.053,
         0.42,
         0.367
        ],
        [
         40,
         "Conservador",
         "Pós-Fixado",
         81623.5,
         0.414,
         0.9,
         0.486
        ],
        [
         40,
         "Conservador",
         "Renda Variável",
         43213.51,
         0.219,
         0.0,
         0.219
        ],
        [
         40,
         "Conservador",
         "Renda Variável",
         72262.09,
         0.367,
         0.0,
         0.367
        ],
        [
         74,
         "Agressivo",
         "Internacional",
         79146.74,
         0.358,
         0.29,
         0.068
        ],
        [
         74,
         "Agressivo",
         "Internacional",
         54201.09,
         0.245,
         0.29,
         0.045
        ],
        [
         74,
         "Agressivo",
         "Internacional",
         87940.29,
         0.397,
         0.29,
         0.107
        ],
        [
         81,
         "Agressivo",
         "Internacional",
         21460.77,
         0.244,
         0.29,
         0.046
        ],
        [
         81,
         "Agressivo",
         "Renda Variável",
         56754.15,
         0.644,
         0.42,
         0.224
        ],
        [
         81,
         "Agressivo",
         "Renda Variável",
         9849.21,
         0.112,
         0.42,
         0.308
        ],
        [
         87,
         "Agressivo",
         "Pós-Fixado",
         84326.34,
         0.439,
         0.29,
         0.149
        ],
        [
         87,
         "Agressivo",
         "Pós-Fixado",
         78755.54,
         0.41,
         0.29,
         0.12
        ],
        [
         87,
         "Agressivo",
         "Renda Variável",
         29125.03,
         0.152,
         0.42,
         0.268
        ],
        [
         99,
         "Moderado",
         "Pós-Fixado",
         20736.76,
         0.191,
         0.8,
         0.609
        ],
        [
         99,
         "Moderado",
         "Renda Variável",
         60772.98,
         0.56,
         0.1,
         0.46
        ],
        [
         99,
         "Moderado",
         "Renda Variável",
         27097.0,
         0.249,
         0.1,
         0.149
        ],
        [
         100,
         "Conservador",
         "Internacional",
         70229.62,
         0.399,
         0.1,
         0.299
        ],
        [
         100,
         "Conservador",
         "Pós-Fixado",
         86527.75,
         0.492,
         0.9,
         0.408
        ],
        [
         100,
         "Conservador",
         "Renda Variável",
         19047.98,
         0.108,
         0.0,
         0.108
        ],
        [
         102,
         "Agressivo",
         "Renda Variável",
         50103.5,
         0.458,
         0.42,
         0.038
        ],
        [
         102,
         "Agressivo",
         "Renda Variável",
         47800.44,
         0.437,
         0.42,
         0.017
        ],
        [
         102,
         "Agressivo",
         "Renda Variável",
         11419.18,
         0.104,
         0.42,
         0.316
        ],
        [
         112,
         "Conservador",
         "Renda Variável",
         73165.05,
         0.842,
         0.0,
         0.842
        ],
        [
         112,
         "Conservador",
         "Renda Variável",
         13726.4,
         0.158,
         0.0,
         0.158
        ],
        [
         122,
         "Moderado",
         "Internacional",
         59592.68,
         0.37,
         0.1,
         0.27
        ],
        [
         122,
         "Moderado",
         "Internacional",
         55997.6,
         0.347,
         0.1,
         0.247
        ],
        [
         122,
         "Moderado",
         "Pós-Fixado",
         45662.64,
         0.283,
         0.8,
         0.517
        ],
        [
         124,
         "Conservador",
         "Internacional",
         28027.89,
         0.459,
         0.1,
         0.359
        ],
        [
         124,
         "Conservador",
         "Pós-Fixado",
         2160.26,
         0.035,
         0.9,
         0.865
        ],
        [
         124,
         "Conservador",
         "Renda Variável",
         30822.9,
         0.505,
         0.0,
         0.505
        ],
        [
         126,
         "Agressivo",
         "Pós-Fixado",
         95568.42,
         0.514,
         0.29,
         0.224
        ],
        [
         126,
         "Agressivo",
         "Renda Variável",
         5520.36,
         0.03,
         0.42,
         0.39
        ],
        [
         126,
         "Agressivo",
         "Renda Variável",
         84931.64,
         0.457,
         0.42,
         0.037
        ],
        [
         128,
         "Moderado",
         "Renda Variável",
         64426.47,
         0.38,
         0.1,
         0.28
        ],
        [
         128,
         "Moderado",
         "Renda Variável",
         87525.55,
         0.516,
         0.1,
         0.416
        ],
        [
         128,
         "Moderado",
         "Renda Variável",
         17670.03,
         0.104,
         0.1,
         0.004
        ],
        [
         135,
         "Conservador",
         "Internacional",
         42395.36,
         0.307,
         0.1,
         0.207
        ],
        [
         135,
         "Conservador",
         "Pós-Fixado",
         83935.73,
         0.607,
         0.9,
         0.293
        ],
        [
         135,
         "Conservador",
         "Pós-Fixado",
         11891.9,
         0.086,
         0.9,
         0.814
        ],
        [
         144,
         "Moderado",
         "Pós-Fixado",
         16103.64,
         0.13,
         0.8,
         0.67
        ],
        [
         144,
         "Moderado",
         "Pós-Fixado",
         94690.75,
         0.763,
         0.8,
         0.037
        ],
        [
         144,
         "Moderado",
         "Renda Variável",
         13270.2,
         0.107,
         0.1,
         0.007
        ]
       ],
       "datasetInfos": [],
       "dbfsResultPath": null,
       "isJsonSchema": true,
       "metadata": {},
       "overflow": false,
       "plotOptions": {
        "customPlotOptions": {},
        "displayType": "table",
        "pivotAggregation": null,
        "pivotColumns": null,
        "xColumns": null,
        "yColumns": null
       },
       "removedWidgets": [],
       "schema": [
        {
         "metadata": "{}",
         "name": "COD_DIM_CONTA",
         "type": "\"long\""
        },
        {
         "metadata": "{}",
         "name": "SUITABILITY",
         "type": "\"string\""
        },
        {
         "metadata": "{}",
         "name": "ESTRATEGIA",
         "type": "\"string\""
        },
        {
         "metadata": "{}",
         "name": "CUSTODIA",
         "type": "\"double\""
        },
        {
         "metadata": "{}",
         "name": "ALOCACAO",
         "type": "\"double\""
        },
        {
         "metadata": "{}",
         "name": "ALOCACAO_RECOMENDADA",
         "type": "\"double\""
        },
        {
         "metadata": "{}",
         "name": "DESVIO_ALOCACAO",
         "type": "\"double\""
        }
       ],
       "type": "table"
      }
     },
     "output_type": "display_data"
    }
   ],
   "source": [
    "alocacao_vs_recomendado_df = (\n",
    "  custodia_estrategia_atual_df\n",
    "  .join(max_recomendacao_df, ['SUITABILITY', 'ESTRATEGIA'], 'left')\n",
    "  .withColumn(\n",
    "    'DESVIO_ALOCACAO',\n",
    "    F.when(F.col('ALOCACAO') >= F.col('ALOCACAO_RECOMENDADA'), F.round(F.col('ALOCACAO') - F.col('ALOCACAO_RECOMENDADA'), 3))\n",
    "    .otherwise(F.round(F.col('ALOCACAO_RECOMENDADA') - F.col('ALOCACAO'), 3))\n",
    "  )\n",
    "  .select(\n",
    "    'COD_DIM_CONTA',\n",
    "    'SUITABILITY', \n",
    "    'ESTRATEGIA',  \n",
    "    'CUSTODIA', \n",
    "    'ALOCACAO', \n",
    "    'ALOCACAO_RECOMENDADA', \n",
    "    'DESVIO_ALOCACAO'\n",
    "  )\n",
    "  .orderBy('COD_DIM_CONTA', 'ESTRATEGIA')\n",
    ")\n",
    "\n",
    "alocacao_vs_recomendado_df.display()"
   ]
  },
  {
   "cell_type": "code",
   "execution_count": 0,
   "metadata": {
    "application/vnd.databricks.v1+cell": {
     "cellMetadata": {
      "byteLimit": 2048000,
      "rowLimit": 10000
     },
     "inputWidgets": {},
     "nuid": "e6e418d6-04ca-4132-bae6-789889612d74",
     "showTitle": false,
     "tableResultSettingsMap": {},
     "title": ""
    }
   },
   "outputs": [
    {
     "output_type": "display_data",
     "data": {
      "text/html": [
       "<style scoped>\n",
       "  .table-result-container {\n",
       "    max-height: 300px;\n",
       "    overflow: auto;\n",
       "  }\n",
       "  table, th, td {\n",
       "    border: 1px solid black;\n",
       "    border-collapse: collapse;\n",
       "  }\n",
       "  th, td {\n",
       "    padding: 5px;\n",
       "  }\n",
       "  th {\n",
       "    text-align: left;\n",
       "  }\n",
       "</style><div class='table-result-container'><table class='table-result'><thead style='background-color: white'><tr><th>COD_DIM_CONTA</th><th>SUITABILITY</th><th>DESVIO_ALOCACAO_TOTAL</th></tr></thead><tbody><tr><td>124</td><td>Conservador</td><td>1.729</td></tr><tr><td>15</td><td>Moderado</td><td>1.351</td></tr><tr><td>135</td><td>Conservador</td><td>1.314</td></tr><tr><td>99</td><td>Moderado</td><td>1.218</td></tr><tr><td>13</td><td>Moderado</td><td>1.154</td></tr></tbody></table></div>"
      ]
     },
     "metadata": {
      "application/vnd.databricks.v1+output": {
       "addedWidgets": {},
       "aggData": [],
       "aggError": "",
       "aggOverflow": false,
       "aggSchema": [],
       "aggSeriesLimitReached": false,
       "aggType": "",
       "arguments": {},
       "columnCustomDisplayInfos": {},
       "data": [
        [
         124,
         "Conservador",
         1.729
        ],
        [
         15,
         "Moderado",
         1.351
        ],
        [
         135,
         "Conservador",
         1.314
        ],
        [
         99,
         "Moderado",
         1.218
        ],
        [
         13,
         "Moderado",
         1.154
        ]
       ],
       "datasetInfos": [],
       "dbfsResultPath": null,
       "isJsonSchema": true,
       "metadata": {},
       "overflow": false,
       "plotOptions": {
        "customPlotOptions": {},
        "displayType": "table",
        "pivotAggregation": null,
        "pivotColumns": null,
        "xColumns": null,
        "yColumns": null
       },
       "removedWidgets": [],
       "schema": [
        {
         "metadata": "{}",
         "name": "COD_DIM_CONTA",
         "type": "\"long\""
        },
        {
         "metadata": "{}",
         "name": "SUITABILITY",
         "type": "\"string\""
        },
        {
         "metadata": "{}",
         "name": "DESVIO_ALOCACAO_TOTAL",
         "type": "\"double\""
        }
       ],
       "type": "table"
      }
     },
     "output_type": "display_data"
    }
   ],
   "source": [
    "# 5 clientes com maior diferença de alocação\n",
    "\n",
    "alocacao_vs_recomendado_df \\\n",
    ".withColumn(\n",
    "    'DESVIO_ALOCACAO_TOTAL',\n",
    "    F.round(F.sum('DESVIO_ALOCACAO').over(w1), 3)\n",
    ") \\\n",
    ".select('COD_DIM_CONTA', 'SUITABILITY', 'DESVIO_ALOCACAO_TOTAL') \\\n",
    ".distinct() \\\n",
    ".orderBy(F.desc('DESVIO_ALOCACAO_TOTAL')) \\\n",
    ".limit(5) \\\n",
    ".display()"
   ]
  },
  {
   "cell_type": "markdown",
   "metadata": {
    "application/vnd.databricks.v1+cell": {
     "cellMetadata": {},
     "inputWidgets": {},
     "nuid": "d5303a20-009b-4b18-a9d6-16351dbf0045",
     "showTitle": false,
     "tableResultSettingsMap": {},
     "title": ""
    }
   },
   "source": [
    "# Desafio 3\n",
    "\n",
    "Bem agora que você construíu os dados de alocação recomendada e sabe melhor como está a carteira dos clientes, quais seriam os próximos passos? Sinta-se a vontade para usar todas as tabelas disponibilizadas até então.\n",
    "\n",
    "Além disso o time de produtos te disponibilizou uma tabela com o ROA médio para cada estratégia de produto. Essa tabela pode ser acessada com o nome de *TB_ROA_MEDIO*\n",
    "\n",
    "**Notas:**\n",
    "- ROA = Revenue Over Assets = Receita / Custódia\n",
    "- Receita = Dinheiro que a XP ganha com taxas, ou operações do cliente\n",
    "- Custódia = Dinheiro dos clientes que está investido dentro da plataforma XP"
   ]
  },
  {
   "cell_type": "markdown",
   "metadata": {
    "application/vnd.databricks.v1+cell": {
     "cellMetadata": {},
     "inputWidgets": {},
     "nuid": "0e2482c9-4384-4d71-a79a-bb786e6bf886",
     "showTitle": false,
     "tableResultSettingsMap": {},
     "title": ""
    }
   },
   "source": [
    "**Sugestões de evolução:**\n",
    "\n",
    "Sinta-se à vontade para fazer qualquer uma das sugestões ou ainda qualquer outra ideia que você tiver, use a criatividade e mostre seus conhecimentos técnicos, lembre-se que aqui no databricks você pode usar não só o SQL mas também o Python ou R caso você tenha conhecimento sob essas linguagens. Se achar válido explore seus conhecimentos em estatística, Pandas, Sklearn ou outros.\n",
    "\n",
    "Algumas sugestões:\n",
    "- Calcular a receita potencial gerada com a alocação recomendada dos clientes, ou seja, hoje os clientes possuem um desvio para a alocação recomendada, se esses clientes vendessem seus ativos e comprassem outros quanto de receita ele geraria para a XP? Você pode usar a tabela de ROA médio por estratégia de produto para fazer esse cálculo\n",
    "- Analisar quais eram os clientes com maior custódia total por suitability\n",
    "- Analisar os produtos com maior alocação dos clientes dentro do canal B2C\n",
    "- Analisar o histórico de distribuição de produtos do cliente com os maiores desvios atualmente\n",
    "- Exibir alguns gráficos usando o databricks ou o python\n",
    "- Fazer uma projeção de custódia total do canal B2B e B2C"
   ]
  },
  {
   "cell_type": "code",
   "execution_count": 0,
   "metadata": {
    "application/vnd.databricks.v1+cell": {
     "cellMetadata": {},
     "inputWidgets": {},
     "nuid": "70bcec40-d68a-4677-8e38-3274b214083e",
     "showTitle": false,
     "tableResultSettingsMap": {},
     "title": ""
    }
   },
   "outputs": [],
   "source": []
  },
  {
   "cell_type": "code",
   "execution_count": 0,
   "metadata": {
    "application/vnd.databricks.v1+cell": {
     "cellMetadata": {},
     "inputWidgets": {},
     "nuid": "8e1f9b02-bfdb-439c-a22f-c1453c959e83",
     "showTitle": false,
     "tableResultSettingsMap": {},
     "title": ""
    }
   },
   "outputs": [],
   "source": []
  }
 ],
 "metadata": {
  "application/vnd.databricks.v1+notebook": {
   "computePreferences": null,
   "dashboards": [],
   "environmentMetadata": null,
   "inputWidgetPreferences": null,
   "language": "python",
   "notebookMetadata": {
    "pythonIndentUnit": 4
   },
   "notebookName": "CaseTechAE_XP202412",
   "widgets": {}
  },
  "language_info": {
   "name": "python"
  }
 },
 "nbformat": 4,
 "nbformat_minor": 0
}